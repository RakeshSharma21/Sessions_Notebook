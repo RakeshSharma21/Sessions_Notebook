{
  "cells": [
    {
      "cell_type": "markdown",
      "metadata": {
        "id": "FLDe9Yr8olrU"
      },
      "source": [
        "# Lesson 3 - Random forest from scratch\n",
        "\n",
        "> A walkthrough on how to write a Random Forest classifier from scratch."
      ]
    },
    {
      "cell_type": "markdown",
      "metadata": {
        "id": "7jIgcLlXolrc"
      },
      "source": [
        "[![Binder](https://mybinder.org/badge_logo.svg)](https://mybinder.org/v2/gh/lewtun/hepml/master?urlpath=lab/tree/notebooks%2Flesson03_random-forest-from-scratch.ipynb) [![Open In Colab](https://colab.research.google.com/assets/colab-badge.svg)](https://colab.research.google.com/github/lewtun/hepml/blob/master/notebooks/lesson03_random-forest-from-scratch.ipynb)"
      ]
    },
    {
      "cell_type": "markdown",
      "metadata": {
        "id": "4nmapEMoolrd"
      },
      "source": [
        "## Learning objectives\n",
        "\n",
        "* Gain an in-depth understanding on how Random Forests work under the hood\n",
        "* Understand the basics of object-oriented-programming (OOP) in Python\n",
        "* Gain an introduction to computational complexity and the steps one can take to optimise an algorithm for speed"
      ]
    },
    {
      "cell_type": "markdown",
      "metadata": {
        "id": "Evwfc8dFolre"
      },
      "source": [
        "## References"
      ]
    },
    {
      "cell_type": "markdown",
      "metadata": {
        "id": "tJ_FovCyolrf"
      },
      "source": [
        "This lesson adapts the implementation for regression trees from\n",
        "\n",
        "* Lessons 5 & 7 from Jeremy Howard's [_Practical Machine Learning for Coders_](http://course18.fast.ai/ml.html) course\n",
        "\n",
        "to binary classificaion tasks. You may also find the following references useful for conceptual understanding:\n",
        "\n",
        "* [_Machine Learning Recipes #8_](https://www.youtube.com/watch?time_continue=492&v=LDRbO9a6XPU&feature=emb_logo) by Josh Gordon\n",
        "* [A visual introduction to machine learning](http://www.r2d3.us/visual-intro-to-machine-learning-part-1/) by Stephanie Yee and Tony Chu\n",
        "* [_Object-Oriented Programming (OOP) in Python 3_](https://realpython.com/python3-object-oriented-programming/) by Real Python"
      ]
    },
    {
      "cell_type": "markdown",
      "metadata": {
        "id": "FNaviNbiolrg"
      },
      "source": [
        "## The data\n",
        "\n",
        "We will continue to use the [SUSY dataset](http://archive.ics.uci.edu/ml/datasets/SUSY#) from lesson 1, but this time using a random sample of 100,000 events:\n",
        "\n",
        "* `susy_sample.feather`\n"
      ]
    },
    {
      "cell_type": "markdown",
      "metadata": {
        "id": "XIkPJlSFolrg"
      },
      "source": [
        "## Import libraries"
      ]
    },
    {
      "cell_type": "code",
      "execution_count": null,
      "metadata": {
        "id": "1kgidckWolrh"
      },
      "outputs": [],
      "source": [
        "# reload modules before executing user code\n",
        "%load_ext autoreload\n",
        "# reload all modules every time before executing Python code\n",
        "%autoreload 2\n",
        "# render plots in notebook\n",
        "%matplotlib inline"
      ]
    },
    {
      "cell_type": "code",
      "execution_count": null,
      "metadata": {
        "id": "6qIjbDsUolrk"
      },
      "outputs": [],
      "source": [
        "# uncomment this if running locally or on Google Colab\n",
        "# !pip install --upgrade hepml"
      ]
    },
    {
      "cell_type": "code",
      "execution_count": null,
      "metadata": {
        "id": "ZNHfTS7zolrl"
      },
      "outputs": [],
      "source": [
        "# data wrangling\n",
        "import pandas as pd\n",
        "import numpy as np\n",
        "from pathlib import Path\n",
        "from hepml.core import display_large, download_dataset\n",
        "\n",
        "# data viz\n",
        "import matplotlib.pyplot as plt\n",
        "from sklearn.tree import plot_tree\n",
        "\n",
        "# ml magic\n",
        "from sklearn.ensemble import RandomForestClassifier\n",
        "from sklearn.model_selection import train_test_split\n",
        "from sklearn.metrics import roc_auc_score"
      ]
    },
    {
      "cell_type": "markdown",
      "metadata": {
        "id": "B0sGLLpGolrl"
      },
      "source": [
        "## Plan of attack"
      ]
    },
    {
      "cell_type": "markdown",
      "metadata": {
        "id": "rgfQQ9tBolrm"
      },
      "source": [
        "<div style=\"text-align: center\">\n",
        "<img src='https://github.com/lewtun/hepml/blob/master/notebooks/images/wtf.jpg?raw=1'>\n",
        "   <p style=\"text-align: center;\"> <b>Figure reference:</b> https://bit.ly/2S7XuJP </p>\n",
        "</div>"
      ]
    },
    {
      "cell_type": "markdown",
      "metadata": {
        "id": "yAataUrxolrm"
      },
      "source": [
        "A good strategy when implementing any algorithm from scratch is to compare against an existing implementation.  This is especially true for machine learning algorithms, where there's many ways to _fail silently_ by introducing bugs in the data manipulation steps that do not throw an error, but result in worse performance in the target metric.\n",
        "\n",
        "To that end, we will use the same sample of 100,000 events from the SUSY dataset that we analysed in lessons 1 and 2, and to simplify the analysis during development we'll start by picking just two features to build our Random Forest on. At each step, we will compare our implementation against scikit-learn's [RandomForestClassifier](https://scikit-learn.org/stable/modules/generated/sklearn.ensemble.RandomForestClassifier.html) as a way of testing the correctness of our code."
      ]
    },
    {
      "cell_type": "markdown",
      "metadata": {
        "id": "CWKGzEvjolrn"
      },
      "source": [
        "## Load the data"
      ]
    },
    {
      "cell_type": "markdown",
      "metadata": {
        "id": "1wRTbbHHolrn"
      },
      "source": [
        "As usual, we can download our dataset by using our `download_dataset` helper function:"
      ]
    },
    {
      "cell_type": "code",
      "execution_count": null,
      "metadata": {
        "id": "jzkBMJK_olro",
        "outputId": "bf2fa6aa-b7a2-40d8-bf1b-6598b018ec38"
      },
      "outputs": [
        {
          "name": "stdout",
          "output_type": "stream",
          "text": [
            "Download of susy_sample.feather dataset complete.\n"
          ]
        }
      ],
      "source": [
        "download_dataset(\"susy_sample.feather\")"
      ]
    },
    {
      "cell_type": "code",
      "execution_count": null,
      "metadata": {
        "id": "_tTTDnOcolrp",
        "outputId": "02e1f472-9842-4226-d714-bb4bacce7344"
      },
      "outputs": [
        {
          "name": "stdout",
          "output_type": "stream",
          "text": [
            "susy.csv.gz         susy_sample.feather susy_train.feather\n",
            "susy.feather        susy_test.feather\n"
          ]
        }
      ],
      "source": [
        "DATA = Path(\"../data\")\n",
        "!ls {DATA}"
      ]
    },
    {
      "cell_type": "markdown",
      "metadata": {
        "id": "MCT6AY70olrq"
      },
      "source": [
        "With pathlib it is a simple matter to define the filepath to the dataset, and since the file is in Feather format we can load it as a `pandas.DataFrame` as follows:"
      ]
    },
    {
      "cell_type": "code",
      "execution_count": null,
      "metadata": {
        "id": "aj6-6dW5olrq",
        "outputId": "a2d3aaf5-1d92-419f-baa2-4cbd69c43e1d"
      },
      "outputs": [
        {
          "data": {
            "text/html": [
              "<div>\n",
              "<style scoped>\n",
              "    .dataframe tbody tr th:only-of-type {\n",
              "        vertical-align: middle;\n",
              "    }\n",
              "\n",
              "    .dataframe tbody tr th {\n",
              "        vertical-align: top;\n",
              "    }\n",
              "\n",
              "    .dataframe thead th {\n",
              "        text-align: right;\n",
              "    }\n",
              "</style>\n",
              "<table border=\"1\" class=\"dataframe\">\n",
              "  <thead>\n",
              "    <tr style=\"text-align: right;\">\n",
              "      <th></th>\n",
              "      <th>signal</th>\n",
              "      <th>lepton 1 pT</th>\n",
              "      <th>lepton 1 eta</th>\n",
              "      <th>lepton 1 phi</th>\n",
              "      <th>lepton 2 pT</th>\n",
              "      <th>lepton 2 eta</th>\n",
              "      <th>lepton 2 phi</th>\n",
              "      <th>missing energy magnitude</th>\n",
              "      <th>missing energy phi</th>\n",
              "      <th>MET_rel</th>\n",
              "      <th>axial MET</th>\n",
              "      <th>M_R</th>\n",
              "      <th>M_TR_2</th>\n",
              "      <th>R</th>\n",
              "      <th>MT2</th>\n",
              "      <th>S_R</th>\n",
              "      <th>M_Delta_R</th>\n",
              "      <th>dPhi_r_b</th>\n",
              "      <th>cos(theta_r1)</th>\n",
              "    </tr>\n",
              "  </thead>\n",
              "  <tbody>\n",
              "    <tr>\n",
              "      <th>0</th>\n",
              "      <td>1.0</td>\n",
              "      <td>0.821395</td>\n",
              "      <td>-0.103436</td>\n",
              "      <td>0.168752</td>\n",
              "      <td>1.051992</td>\n",
              "      <td>0.431800</td>\n",
              "      <td>-1.210648</td>\n",
              "      <td>0.428240</td>\n",
              "      <td>-1.663188</td>\n",
              "      <td>0.475450</td>\n",
              "      <td>-0.020242</td>\n",
              "      <td>0.795758</td>\n",
              "      <td>0.704858</td>\n",
              "      <td>0.786029</td>\n",
              "      <td>0.776712</td>\n",
              "      <td>0.792950</td>\n",
              "      <td>0.623655</td>\n",
              "      <td>0.770409</td>\n",
              "      <td>0.196300</td>\n",
              "    </tr>\n",
              "    <tr>\n",
              "      <th>1</th>\n",
              "      <td>1.0</td>\n",
              "      <td>0.907188</td>\n",
              "      <td>-1.143420</td>\n",
              "      <td>1.317695</td>\n",
              "      <td>1.299381</td>\n",
              "      <td>-1.839876</td>\n",
              "      <td>-0.160823</td>\n",
              "      <td>0.988608</td>\n",
              "      <td>-0.829973</td>\n",
              "      <td>1.395849</td>\n",
              "      <td>-0.646217</td>\n",
              "      <td>0.963228</td>\n",
              "      <td>1.139413</td>\n",
              "      <td>1.049706</td>\n",
              "      <td>1.399592</td>\n",
              "      <td>1.019565</td>\n",
              "      <td>1.157555</td>\n",
              "      <td>1.484495</td>\n",
              "      <td>0.179817</td>\n",
              "    </tr>\n",
              "    <tr>\n",
              "      <th>2</th>\n",
              "      <td>0.0</td>\n",
              "      <td>0.659807</td>\n",
              "      <td>-1.977303</td>\n",
              "      <td>-1.410509</td>\n",
              "      <td>0.990329</td>\n",
              "      <td>-1.701409</td>\n",
              "      <td>0.249222</td>\n",
              "      <td>0.499979</td>\n",
              "      <td>-0.509796</td>\n",
              "      <td>0.737884</td>\n",
              "      <td>0.661397</td>\n",
              "      <td>0.659569</td>\n",
              "      <td>0.609093</td>\n",
              "      <td>0.819481</td>\n",
              "      <td>0.000000</td>\n",
              "      <td>0.671145</td>\n",
              "      <td>0.397877</td>\n",
              "      <td>1.439343</td>\n",
              "      <td>0.054367</td>\n",
              "    </tr>\n",
              "    <tr>\n",
              "      <th>3</th>\n",
              "      <td>0.0</td>\n",
              "      <td>0.720814</td>\n",
              "      <td>-0.863228</td>\n",
              "      <td>0.222717</td>\n",
              "      <td>0.502039</td>\n",
              "      <td>0.472637</td>\n",
              "      <td>-1.134090</td>\n",
              "      <td>0.829423</td>\n",
              "      <td>-1.630658</td>\n",
              "      <td>0.984676</td>\n",
              "      <td>-0.509003</td>\n",
              "      <td>0.685277</td>\n",
              "      <td>0.898880</td>\n",
              "      <td>1.163993</td>\n",
              "      <td>0.885574</td>\n",
              "      <td>0.733956</td>\n",
              "      <td>0.942846</td>\n",
              "      <td>1.475507</td>\n",
              "      <td>0.365486</td>\n",
              "    </tr>\n",
              "    <tr>\n",
              "      <th>4</th>\n",
              "      <td>1.0</td>\n",
              "      <td>0.672261</td>\n",
              "      <td>1.264989</td>\n",
              "      <td>-0.032661</td>\n",
              "      <td>0.560856</td>\n",
              "      <td>0.086291</td>\n",
              "      <td>1.542801</td>\n",
              "      <td>1.705778</td>\n",
              "      <td>0.219045</td>\n",
              "      <td>1.099387</td>\n",
              "      <td>2.002287</td>\n",
              "      <td>0.646456</td>\n",
              "      <td>0.835348</td>\n",
              "      <td>1.146685</td>\n",
              "      <td>0.000000</td>\n",
              "      <td>0.692432</td>\n",
              "      <td>0.779301</td>\n",
              "      <td>1.543818</td>\n",
              "      <td>0.308604</td>\n",
              "    </tr>\n",
              "  </tbody>\n",
              "</table>\n",
              "</div>"
            ],
            "text/plain": [
              "   signal  lepton 1 pT  lepton 1 eta  lepton 1 phi  lepton 2 pT  lepton 2 eta  \\\n",
              "0     1.0     0.821395     -0.103436      0.168752     1.051992      0.431800   \n",
              "1     1.0     0.907188     -1.143420      1.317695     1.299381     -1.839876   \n",
              "2     0.0     0.659807     -1.977303     -1.410509     0.990329     -1.701409   \n",
              "3     0.0     0.720814     -0.863228      0.222717     0.502039      0.472637   \n",
              "4     1.0     0.672261      1.264989     -0.032661     0.560856      0.086291   \n",
              "\n",
              "   lepton 2 phi  missing energy magnitude  missing energy phi   MET_rel  \\\n",
              "0     -1.210648                  0.428240           -1.663188  0.475450   \n",
              "1     -0.160823                  0.988608           -0.829973  1.395849   \n",
              "2      0.249222                  0.499979           -0.509796  0.737884   \n",
              "3     -1.134090                  0.829423           -1.630658  0.984676   \n",
              "4      1.542801                  1.705778            0.219045  1.099387   \n",
              "\n",
              "   axial MET       M_R    M_TR_2         R       MT2       S_R  M_Delta_R  \\\n",
              "0  -0.020242  0.795758  0.704858  0.786029  0.776712  0.792950   0.623655   \n",
              "1  -0.646217  0.963228  1.139413  1.049706  1.399592  1.019565   1.157555   \n",
              "2   0.661397  0.659569  0.609093  0.819481  0.000000  0.671145   0.397877   \n",
              "3  -0.509003  0.685277  0.898880  1.163993  0.885574  0.733956   0.942846   \n",
              "4   2.002287  0.646456  0.835348  1.146685  0.000000  0.692432   0.779301   \n",
              "\n",
              "   dPhi_r_b  cos(theta_r1)  \n",
              "0  0.770409       0.196300  \n",
              "1  1.484495       0.179817  \n",
              "2  1.439343       0.054367  \n",
              "3  1.475507       0.365486  \n",
              "4  1.543818       0.308604  "
            ]
          },
          "execution_count": null,
          "metadata": {},
          "output_type": "execute_result"
        }
      ],
      "source": [
        "susy_sample = pd.read_feather(DATA / \"susy_sample.feather\")\n",
        "susy_sample.head()"
      ]
    },
    {
      "cell_type": "code",
      "execution_count": null,
      "metadata": {
        "id": "LU8Iq5pcolrq"
      },
      "outputs": [],
      "source": [
        "# sanity check on number of events\n",
        "assert len(susy_sample) == 100_000"
      ]
    },
    {
      "cell_type": "markdown",
      "metadata": {
        "id": "KiBrtiKkolrr"
      },
      "source": [
        "Next we create the feature matrix $X$ and target vector $y$, along with the training and validation sets:"
      ]
    },
    {
      "cell_type": "code",
      "execution_count": null,
      "metadata": {
        "id": "Wqkg71Leolrr",
        "outputId": "fd1a70d1-01ea-4652-ba6b-23381f52d9e5"
      },
      "outputs": [
        {
          "name": "stdout",
          "output_type": "stream",
          "text": [
            "Dataset split: 80000 train rows + 20000 valid rows\n"
          ]
        }
      ],
      "source": [
        "X = susy_sample.drop(\"signal\", axis=1)\n",
        "y = susy_sample[\"signal\"]\n",
        "\n",
        "X_train, X_valid, y_train, y_valid = train_test_split(X, y, test_size=0.2, random_state=42)\n",
        "\n",
        "print(f\"Dataset split: {len(X_train)} train rows + {len(X_valid)} valid rows\")\n",
        "\n",
        "# pick 2 features to experiment with\n",
        "X_train_sub = X_train[[\"missing energy magnitude\", \"lepton 1 pT\"]].copy()\n",
        "X_valid_sub = X_valid[[\"missing energy magnitude\", \"lepton 1 pT\"]].copy()"
      ]
    },
    {
      "cell_type": "markdown",
      "metadata": {
        "id": "H7ILhy04olrr"
      },
      "source": [
        "## Basic classes and functions"
      ]
    },
    {
      "cell_type": "markdown",
      "metadata": {
        "id": "lip16ISQolrs"
      },
      "source": [
        "### Tree ensemble"
      ]
    },
    {
      "cell_type": "markdown",
      "metadata": {
        "id": "e36CKbrBolrs"
      },
      "source": [
        "To get started, we need a data structure that will represent an ensemble of decision trees. As a first guess, the variables we'll need to initialise our ensemble might include:\n",
        "\n",
        "* `X`: the feature matrix\n",
        "* `y`: the target vector\n",
        "* `n_trees`: how many trees to include in the forest\n",
        "* `sample_size`: how big we want each sample to be\n",
        "* `min_samples_leaf`: some optional hyperparameter that controls the minimum number of samples required to be at a leaf node\n",
        "\n",
        "With these considerations, let's go ahead and build our ensemble class"
      ]
    },
    {
      "cell_type": "code",
      "execution_count": null,
      "metadata": {
        "id": "fz0-ew9lolrs"
      },
      "outputs": [],
      "source": [
        "class TreeEnsemble:\n",
        "    # instance attributes\n",
        "    def __init__(\n",
        "        self, X: np.ndarray, y: np.ndarray, n_trees: int, sample_size: int, min_samples_leaf: int = 5,\n",
        "    ):\n",
        "        # use constant random seed for testing\n",
        "        np.random.seed(42)\n",
        "        self.X = X\n",
        "        self.y = y\n",
        "        self.n_trees = n_trees\n",
        "        self.sample_size = sample_size\n",
        "        self.min_samples_leaf = min_samples_leaf\n",
        "\n",
        "        self.trees = [self.create_tree() for i in range(n_trees)]\n",
        "\n",
        "    # instance method\n",
        "    def create_tree(self):\n",
        "        # grab random subsample without replacement - no bootstrapping!\n",
        "        random_indices = np.random.permutation(len(self.y))[: self.sample_size]\n",
        "        return DecisionTree(\n",
        "            self.X.iloc[random_indices], self.y.iloc[random_indices], min_samples_leaf=self.min_samples_leaf,\n",
        "        )\n",
        "\n",
        "    # instance method\n",
        "    def predict(self, X):\n",
        "        return np.mean([t.predict(X) for t in self.trees], axis=0)"
      ]
    },
    {
      "cell_type": "markdown",
      "metadata": {
        "id": "MFQ5fdtgolrt"
      },
      "source": [
        "> Note: All classes in Python create objects, and all objects contain properties called attributes. We use the `__init__()` method to initialize an object’s initial attributes by giving them their default value. This method must have at least one argument as well as the `self` variable, which refers to the object itself (e.g., `TreeEnsemble`)."
      ]
    },
    {
      "cell_type": "markdown",
      "metadata": {
        "id": "8b7NmNQkolrt"
      },
      "source": [
        "Next let's try to instantiate this class:"
      ]
    },
    {
      "cell_type": "code",
      "execution_count": null,
      "metadata": {
        "id": "5jV7AAKHolrt",
        "outputId": "b51c3094-ee0f-4f93-b807-7ddc7f226de5"
      },
      "outputs": [
        {
          "ename": "NameError",
          "evalue": "name 'DecisionTree' is not defined",
          "output_type": "error",
          "traceback": [
            "\u001b[0;31m---------------------------------------------------------------------------\u001b[0m",
            "\u001b[0;31mNameError\u001b[0m                                 Traceback (most recent call last)",
            "\u001b[0;32m<ipython-input-10-1eba575a2685>\u001b[0m in \u001b[0;36m<module>\u001b[0;34m\u001b[0m\n\u001b[0;32m----> 1\u001b[0;31m \u001b[0mrf\u001b[0m \u001b[0;34m=\u001b[0m \u001b[0mTreeEnsemble\u001b[0m\u001b[0;34m(\u001b[0m\u001b[0mX_train_sub\u001b[0m\u001b[0;34m,\u001b[0m \u001b[0my_train\u001b[0m\u001b[0;34m,\u001b[0m \u001b[0mn_trees\u001b[0m\u001b[0;34m=\u001b[0m\u001b[0;36m10\u001b[0m\u001b[0;34m,\u001b[0m \u001b[0msample_size\u001b[0m\u001b[0;34m=\u001b[0m\u001b[0;36m1000\u001b[0m\u001b[0;34m,\u001b[0m \u001b[0mmin_samples_leaf\u001b[0m\u001b[0;34m=\u001b[0m\u001b[0;36m3\u001b[0m\u001b[0;34m)\u001b[0m\u001b[0;34m\u001b[0m\u001b[0;34m\u001b[0m\u001b[0m\n\u001b[0m",
            "\u001b[0;32m<ipython-input-9-35a8ae6ea2ce>\u001b[0m in \u001b[0;36m__init__\u001b[0;34m(self, X, y, n_trees, sample_size, min_samples_leaf)\u001b[0m\n\u001b[1;32m     12\u001b[0m         \u001b[0mself\u001b[0m\u001b[0;34m.\u001b[0m\u001b[0mmin_samples_leaf\u001b[0m \u001b[0;34m=\u001b[0m \u001b[0mmin_samples_leaf\u001b[0m\u001b[0;34m\u001b[0m\u001b[0;34m\u001b[0m\u001b[0m\n\u001b[1;32m     13\u001b[0m \u001b[0;34m\u001b[0m\u001b[0m\n\u001b[0;32m---> 14\u001b[0;31m         \u001b[0mself\u001b[0m\u001b[0;34m.\u001b[0m\u001b[0mtrees\u001b[0m \u001b[0;34m=\u001b[0m \u001b[0;34m[\u001b[0m\u001b[0mself\u001b[0m\u001b[0;34m.\u001b[0m\u001b[0mcreate_tree\u001b[0m\u001b[0;34m(\u001b[0m\u001b[0;34m)\u001b[0m \u001b[0;32mfor\u001b[0m \u001b[0mi\u001b[0m \u001b[0;32min\u001b[0m \u001b[0mrange\u001b[0m\u001b[0;34m(\u001b[0m\u001b[0mn_trees\u001b[0m\u001b[0;34m)\u001b[0m\u001b[0;34m]\u001b[0m\u001b[0;34m\u001b[0m\u001b[0;34m\u001b[0m\u001b[0m\n\u001b[0m\u001b[1;32m     15\u001b[0m \u001b[0;34m\u001b[0m\u001b[0m\n\u001b[1;32m     16\u001b[0m     \u001b[0;31m# instance method\u001b[0m\u001b[0;34m\u001b[0m\u001b[0;34m\u001b[0m\u001b[0;34m\u001b[0m\u001b[0m\n",
            "\u001b[0;32m<ipython-input-9-35a8ae6ea2ce>\u001b[0m in \u001b[0;36m<listcomp>\u001b[0;34m(.0)\u001b[0m\n\u001b[1;32m     12\u001b[0m         \u001b[0mself\u001b[0m\u001b[0;34m.\u001b[0m\u001b[0mmin_samples_leaf\u001b[0m \u001b[0;34m=\u001b[0m \u001b[0mmin_samples_leaf\u001b[0m\u001b[0;34m\u001b[0m\u001b[0;34m\u001b[0m\u001b[0m\n\u001b[1;32m     13\u001b[0m \u001b[0;34m\u001b[0m\u001b[0m\n\u001b[0;32m---> 14\u001b[0;31m         \u001b[0mself\u001b[0m\u001b[0;34m.\u001b[0m\u001b[0mtrees\u001b[0m \u001b[0;34m=\u001b[0m \u001b[0;34m[\u001b[0m\u001b[0mself\u001b[0m\u001b[0;34m.\u001b[0m\u001b[0mcreate_tree\u001b[0m\u001b[0;34m(\u001b[0m\u001b[0;34m)\u001b[0m \u001b[0;32mfor\u001b[0m \u001b[0mi\u001b[0m \u001b[0;32min\u001b[0m \u001b[0mrange\u001b[0m\u001b[0;34m(\u001b[0m\u001b[0mn_trees\u001b[0m\u001b[0;34m)\u001b[0m\u001b[0;34m]\u001b[0m\u001b[0;34m\u001b[0m\u001b[0;34m\u001b[0m\u001b[0m\n\u001b[0m\u001b[1;32m     15\u001b[0m \u001b[0;34m\u001b[0m\u001b[0m\n\u001b[1;32m     16\u001b[0m     \u001b[0;31m# instance method\u001b[0m\u001b[0;34m\u001b[0m\u001b[0;34m\u001b[0m\u001b[0;34m\u001b[0m\u001b[0m\n",
            "\u001b[0;32m<ipython-input-9-35a8ae6ea2ce>\u001b[0m in \u001b[0;36mcreate_tree\u001b[0;34m(self)\u001b[0m\n\u001b[1;32m     18\u001b[0m         \u001b[0;31m# grab random subsample without replacement - no bootstrapping!\u001b[0m\u001b[0;34m\u001b[0m\u001b[0;34m\u001b[0m\u001b[0;34m\u001b[0m\u001b[0m\n\u001b[1;32m     19\u001b[0m         \u001b[0mrandom_indices\u001b[0m \u001b[0;34m=\u001b[0m \u001b[0mnp\u001b[0m\u001b[0;34m.\u001b[0m\u001b[0mrandom\u001b[0m\u001b[0;34m.\u001b[0m\u001b[0mpermutation\u001b[0m\u001b[0;34m(\u001b[0m\u001b[0mlen\u001b[0m\u001b[0;34m(\u001b[0m\u001b[0mself\u001b[0m\u001b[0;34m.\u001b[0m\u001b[0my\u001b[0m\u001b[0;34m)\u001b[0m\u001b[0;34m)\u001b[0m\u001b[0;34m[\u001b[0m\u001b[0;34m:\u001b[0m \u001b[0mself\u001b[0m\u001b[0;34m.\u001b[0m\u001b[0msample_size\u001b[0m\u001b[0;34m]\u001b[0m\u001b[0;34m\u001b[0m\u001b[0;34m\u001b[0m\u001b[0m\n\u001b[0;32m---> 20\u001b[0;31m         return DecisionTree(\n\u001b[0m\u001b[1;32m     21\u001b[0m             \u001b[0mself\u001b[0m\u001b[0;34m.\u001b[0m\u001b[0mX\u001b[0m\u001b[0;34m.\u001b[0m\u001b[0miloc\u001b[0m\u001b[0;34m[\u001b[0m\u001b[0mrandom_indices\u001b[0m\u001b[0;34m]\u001b[0m\u001b[0;34m,\u001b[0m \u001b[0mself\u001b[0m\u001b[0;34m.\u001b[0m\u001b[0my\u001b[0m\u001b[0;34m.\u001b[0m\u001b[0miloc\u001b[0m\u001b[0;34m[\u001b[0m\u001b[0mrandom_indices\u001b[0m\u001b[0;34m]\u001b[0m\u001b[0;34m,\u001b[0m \u001b[0mmin_samples_leaf\u001b[0m\u001b[0;34m=\u001b[0m\u001b[0mself\u001b[0m\u001b[0;34m.\u001b[0m\u001b[0mmin_samples_leaf\u001b[0m\u001b[0;34m,\u001b[0m\u001b[0;34m\u001b[0m\u001b[0;34m\u001b[0m\u001b[0m\n\u001b[1;32m     22\u001b[0m         )\n",
            "\u001b[0;31mNameError\u001b[0m: name 'DecisionTree' is not defined"
          ]
        }
      ],
      "source": [
        "rf = TreeEnsemble(X_train_sub, y_train, n_trees=10, sample_size=1000, min_samples_leaf=3)"
      ]
    },
    {
      "cell_type": "markdown",
      "metadata": {
        "id": "DxVSi8i9olru"
      },
      "source": [
        "Oops! Our `TreeEnsemble` assumes we have a class called `DecisionTree`, so let's create a minimal version that will allow us to instantiate it:"
      ]
    },
    {
      "cell_type": "code",
      "execution_count": null,
      "metadata": {
        "id": "YijHBMj4olru"
      },
      "outputs": [],
      "source": [
        "class DecisionTree:\n",
        "    def __init__(self, X: np.ndarray, y: np.ndarray, indices=None, min_samples_leaf: int = 5):\n",
        "        self.X = X\n",
        "        self.y = y\n",
        "        self.indices = indices\n",
        "        self.min_samples_leaf = min_samples_leaf"
      ]
    },
    {
      "cell_type": "code",
      "execution_count": null,
      "metadata": {
        "id": "liwZ_kZ3olru",
        "outputId": "888991bb-3700-4341-de21-c816bfceac7d"
      },
      "outputs": [
        {
          "data": {
            "text/plain": [
              "[<__main__.DecisionTree at 0x13f736e90>,\n",
              " <__main__.DecisionTree at 0x13f736350>,\n",
              " <__main__.DecisionTree at 0x13f736f10>,\n",
              " <__main__.DecisionTree at 0x13f73c050>,\n",
              " <__main__.DecisionTree at 0x13f73c490>,\n",
              " <__main__.DecisionTree at 0x13f73c210>,\n",
              " <__main__.DecisionTree at 0x13f73c1d0>,\n",
              " <__main__.DecisionTree at 0x13f73c310>,\n",
              " <__main__.DecisionTree at 0x13f73c650>,\n",
              " <__main__.DecisionTree at 0x13f73c4d0>]"
            ]
          },
          "execution_count": null,
          "metadata": {},
          "output_type": "execute_result"
        }
      ],
      "source": [
        "rf = TreeEnsemble(X_train_sub, y_train, n_trees=10, sample_size=1000, min_samples_leaf=3)\n",
        "# test we can access attributes\n",
        "rf.trees"
      ]
    },
    {
      "cell_type": "markdown",
      "metadata": {
        "id": "aHYtho2Zolrv"
      },
      "source": [
        "### Decision tree"
      ]
    },
    {
      "cell_type": "markdown",
      "metadata": {
        "id": "2n7HWI0Qolrv"
      },
      "source": [
        "Our `DecisionTree` class doesn't do anything yet, so let's add some logic to flesh it out. In addition to passing `X`, `y`, and `min_samples_leaf` to the constructor, we also need to keep track of which row indices are passed to the left- and right-hand sides of the tree. Since the root node contains all the rows, we can use `None` as a default and set `indices` to the length of `y`:"
      ]
    },
    {
      "cell_type": "code",
      "execution_count": null,
      "metadata": {
        "id": "92GB2Wkeolrw"
      },
      "outputs": [],
      "source": [
        "class DecisionTree:\n",
        "    def __init__(self, X: np.ndarray, y: np.ndarray, indices: np.ndarray = None, min_samples_leaf: int = 5):\n",
        "        # use all rows for root node\n",
        "        if indices is None:\n",
        "            indices = np.arange(len(y))\n",
        "\n",
        "        self.X = X\n",
        "        self.y = y\n",
        "        self.indices = indices\n",
        "        self.min_samples_leaf = min_samples_leaf\n",
        "\n",
        "        self.n_samples, self.n_features = len(indices), X.shape[1]\n",
        "        self.value = self.calculate_class_probabilities(self.y, self.indices)\n",
        "        self.gini = self.gini_impurity(self.y)\n",
        "        self.score = float(\"inf\")\n",
        "        self.find_feature_split()\n",
        "\n",
        "    # this just does one decision - we'll make it recursive later\n",
        "    def find_feature_split(self):\n",
        "        for i in range(self.n_features):\n",
        "            self.find_better_split(i)\n",
        "\n",
        "    # we'll write this later!\n",
        "    def find_better_split(self, feature_index):\n",
        "        pass\n",
        "\n",
        "    # we'll write this later!\n",
        "    def calculate_class_probabilities(self, y, indices):\n",
        "        pass\n",
        "\n",
        "    # we'll write this later!\n",
        "    def gini_impurity(self, y):\n",
        "        pass\n",
        "\n",
        "    @property\n",
        "    def split_name(self):\n",
        "        return self.X.columns[self.feature_index]\n",
        "\n",
        "    @property\n",
        "    def split_feature(self):\n",
        "        return self.X.values[self.indices, self.feature_index]\n",
        "\n",
        "    @property\n",
        "    def is_leaf(self):\n",
        "        return self.score == float(\"inf\")\n",
        "\n",
        "    # convert object to string - see https://dbader.org/blog/python-repr-vs-str\n",
        "    def __repr__(self):\n",
        "        s = f\"n_samples: {self.n_samples}; value: {self.value}; gini: {self.gini}\"\n",
        "        if not self.is_leaf:\n",
        "            s += f\"; score: {self.score}; feature: {self.split_name}; split_point: {self.split}\"\n",
        "        return s"
      ]
    },
    {
      "cell_type": "markdown",
      "metadata": {
        "id": "2vo1U32xolrx"
      },
      "source": [
        "Next let's check we can instantiate the ensemble and access the first decision tree:"
      ]
    },
    {
      "cell_type": "code",
      "execution_count": null,
      "metadata": {
        "id": "W2MDN0USolrx",
        "outputId": "5ef75a41-6bc6-4b10-9a55-2cad9922fe18"
      },
      "outputs": [
        {
          "data": {
            "text/plain": [
              "n_samples: 1000; value: None; gini: None"
            ]
          },
          "execution_count": null,
          "metadata": {},
          "output_type": "execute_result"
        }
      ],
      "source": [
        "rf = TreeEnsemble(X_train_sub, y_train, n_trees=10, sample_size=1000, min_samples_leaf=3)\n",
        "rf.trees[0]"
      ]
    },
    {
      "cell_type": "markdown",
      "metadata": {
        "id": "9q-S0KEFolrx"
      },
      "source": [
        "It works! Our `__repr__` method now returns useful information about the attributes of the class instance, but we still need to implement methods for the class probabilities and Gini impurity. Let's consider each one in turn."
      ]
    },
    {
      "cell_type": "markdown",
      "metadata": {
        "id": "ClfFfHWcolry"
      },
      "source": [
        "### Class probabilities"
      ]
    },
    {
      "cell_type": "markdown",
      "metadata": {
        "id": "FYP7Er7Nolr9"
      },
      "source": [
        "In order to average the predictions across multiple trees in our forest, we need know what percentage of a given leaf node contains signal events and what percentage contains background. A simple way to do that is via the `np.unique` method, e.g."
      ]
    },
    {
      "cell_type": "code",
      "execution_count": null,
      "metadata": {
        "id": "XgkUtMd6olr-",
        "outputId": "3d00e9eb-2a22-4245-8fd2-27ac2d3b0220"
      },
      "outputs": [
        {
          "data": {
            "text/plain": [
              "(array([0., 1.]), array([43374, 36626]))"
            ]
          },
          "execution_count": null,
          "metadata": {},
          "output_type": "execute_result"
        }
      ],
      "source": [
        "# returns tuple - (class_labels, class_counts)\n",
        "np.unique(y_train, return_counts=True)"
      ]
    },
    {
      "cell_type": "markdown",
      "metadata": {
        "id": "AHT2MSYColr-"
      },
      "source": [
        "This is not quite what we need because it just provides the raw counts, so let's normalise them as follows:"
      ]
    },
    {
      "cell_type": "code",
      "execution_count": null,
      "metadata": {
        "id": "RPATi15qolr-",
        "outputId": "a7977856-df08-4784-c0c1-35fc7f2806a4"
      },
      "outputs": [
        {
          "data": {
            "text/plain": [
              "array([0.542175, 0.457825])"
            ]
          },
          "execution_count": null,
          "metadata": {},
          "output_type": "execute_result"
        }
      ],
      "source": [
        "np.unique(y_train, return_counts=True)[1] / len(y_train)"
      ]
    },
    {
      "cell_type": "markdown",
      "metadata": {
        "id": "zp7g60onolr_"
      },
      "source": [
        "We can wrap this in a single function that also handles the cases where we only have one sample in a leaf node:"
      ]
    },
    {
      "cell_type": "code",
      "execution_count": null,
      "metadata": {
        "id": "OHkLnG2holr_"
      },
      "outputs": [],
      "source": [
        "def calculate_class_probabilities(self, y: pd.Series, indices: np.ndarray):\n",
        "    probs = np.unique(y.iloc[indices], return_counts=True)[1] / len(y.iloc[indices])\n",
        "\n",
        "    # handle edge case when leaf only contains one sample\n",
        "    if len(probs) == 1:\n",
        "        if int(y.iloc[indices].values[0]) == 0:\n",
        "            value = np.array([1.0, 0.0])\n",
        "        else:\n",
        "            value = np.array([0.0, 1.0])\n",
        "    else:\n",
        "        value = probs\n",
        "\n",
        "    return value"
      ]
    },
    {
      "cell_type": "markdown",
      "metadata": {
        "id": "rSuQ5OEHolsA"
      },
      "source": [
        "We can now use this function to override our class method as follows:"
      ]
    },
    {
      "cell_type": "code",
      "execution_count": null,
      "metadata": {
        "id": "HH3xNIFHolsA"
      },
      "outputs": [],
      "source": [
        "DecisionTree.calculate_class_probabilities = calculate_class_probabilities"
      ]
    },
    {
      "cell_type": "markdown",
      "metadata": {
        "id": "WxINJUwXolsB"
      },
      "source": [
        "Finally, let's check that the function works as intended:"
      ]
    },
    {
      "cell_type": "code",
      "execution_count": null,
      "metadata": {
        "id": "UgXQoFgoolsB",
        "outputId": "9cc76d31-5b4e-468c-f6d0-26b2a7009c93"
      },
      "outputs": [
        {
          "data": {
            "text/plain": [
              "n_samples: 1000; value: [0.516 0.484]; gini: None"
            ]
          },
          "execution_count": null,
          "metadata": {},
          "output_type": "execute_result"
        }
      ],
      "source": [
        "rf = TreeEnsemble(X_train_sub, y_train, n_trees=10, sample_size=1000, min_samples_leaf=3)\n",
        "rf.trees[0]"
      ]
    },
    {
      "cell_type": "markdown",
      "metadata": {
        "id": "NP_7SmpdolsD"
      },
      "source": [
        "### Gini impurity"
      ]
    },
    {
      "cell_type": "markdown",
      "metadata": {
        "id": "fLiJtVUkolsE"
      },
      "source": [
        "The next piece of information we need to calculate is the Gini impurity at a given node in the tree. Recall that the formula for Gini impurity is\n",
        "\n",
        "$$ G_i = 1 - \\sum_{k=1}^n p_{i,k}^2 $$\n",
        "\n",
        "where $p_{i,k}$ is the ratio of class $k$ examples among the training examples in the ith node. We can get the values of $p_{i,k}$ by using the `np.unique` method again, e.g."
      ]
    },
    {
      "cell_type": "code",
      "execution_count": null,
      "metadata": {
        "id": "V2DeOBsUolsE",
        "outputId": "a356941e-d8ee-4304-ba69-8df35a3291f8"
      },
      "outputs": [
        {
          "name": "stdout",
          "output_type": "stream",
          "text": [
            "Gini pure = 0.0; Gini mixed = 0.5\n"
          ]
        }
      ],
      "source": [
        "y_pure = np.array([1, 1, 1, 1])\n",
        "y_mixed = np.array([1, 0, 1, 0])\n",
        "\n",
        "gini_pure = 1.0 - np.sum((np.unique(y_pure, return_counts=True)[1] / len(y_pure)) ** 2)\n",
        "gini_mixed = 1.0 - np.sum((np.unique(y_mixed, return_counts=True)[1] / len(y_mixed)) ** 2)\n",
        "\n",
        "print(f\"Gini pure = {gini_pure}; Gini mixed = {gini_mixed}\")"
      ]
    },
    {
      "cell_type": "markdown",
      "metadata": {
        "id": "u0PH4QFbolsG"
      },
      "source": [
        "Let's wrap this logic in a function and override the one defined in our `DecisionTree` class:"
      ]
    },
    {
      "cell_type": "code",
      "execution_count": null,
      "metadata": {
        "id": "v0Zj3EuJolsG"
      },
      "outputs": [],
      "source": [
        "def gini_impurity(self, y):\n",
        "    return 1.0 - np.sum((np.unique(y, return_counts=True)[1] / len(y)) ** 2)\n",
        "\n",
        "\n",
        "DecisionTree.gini_impurity = gini_impurity"
      ]
    },
    {
      "cell_type": "markdown",
      "metadata": {
        "id": "kWDkXzqzolsH"
      },
      "source": [
        "As before, we do a sanity check to see whether it works:"
      ]
    },
    {
      "cell_type": "code",
      "execution_count": null,
      "metadata": {
        "id": "K-XqU4MqolsI",
        "outputId": "77739dc8-6245-42dc-cee1-99f8b05c9421"
      },
      "outputs": [
        {
          "data": {
            "text/plain": [
              "n_samples: 1000; value: [0.516 0.484]; gini: 0.49948800000000004"
            ]
          },
          "execution_count": null,
          "metadata": {},
          "output_type": "execute_result"
        }
      ],
      "source": [
        "rf = TreeEnsemble(X_train_sub, y_train, n_trees=10, sample_size=1000, min_samples_leaf=3)\n",
        "rf.trees[0]"
      ]
    },
    {
      "cell_type": "markdown",
      "metadata": {
        "id": "6_S8XhADolsI"
      },
      "source": [
        "🎉🎉🎉"
      ]
    },
    {
      "cell_type": "markdown",
      "metadata": {
        "id": "NEZN6SwoolsJ"
      },
      "source": [
        "## Finding the best split on a single branch"
      ]
    },
    {
      "cell_type": "markdown",
      "metadata": {
        "id": "FBpxTOVGolsQ"
      },
      "source": [
        "Now that we are able to calculate the probabilities and Gini impurity of a Decision Tree's node, the next step is to implement the logic for the `find_better_split` function. To test that we are on the right track, let us first feed the same random sample from our ensemble to scikit-learns' `RandomForestClassifier`:"
      ]
    },
    {
      "cell_type": "code",
      "execution_count": null,
      "metadata": {
        "id": "Fhjc6MLrolsQ",
        "outputId": "93e5a03f-7336-4a60-818d-1ea603bc8dcd"
      },
      "outputs": [
        {
          "data": {
            "text/plain": [
              "Index(['missing energy magnitude', 'lepton 1 pT'], dtype='object')"
            ]
          },
          "execution_count": null,
          "metadata": {},
          "output_type": "execute_result"
        }
      ],
      "source": [
        "# create ensemble with 1 tree\n",
        "rf = TreeEnsemble(X_train_sub, y_train, n_trees=1, sample_size=1000)\n",
        "# extract DecisionTree instance\n",
        "tree = rf.trees[0]\n",
        "# extract sample associated with the Decision Tree\n",
        "X_samp, y_samp = tree.X, tree.y\n",
        "X_samp.columns"
      ]
    },
    {
      "cell_type": "code",
      "execution_count": null,
      "metadata": {
        "id": "Z7PWdICZolsS",
        "outputId": "bd0ac9f2-db46-4058-ce1c-96b6a6740dbc"
      },
      "outputs": [
        {
          "data": {
            "text/plain": [
              "RandomForestClassifier(bootstrap=False, ccp_alpha=0.0, class_weight=None,\n",
              "                       criterion='gini', max_depth=1, max_features=None,\n",
              "                       max_leaf_nodes=None, max_samples=None,\n",
              "                       min_impurity_decrease=0.0, min_impurity_split=None,\n",
              "                       min_samples_leaf=1, min_samples_split=2,\n",
              "                       min_weight_fraction_leaf=0.0, n_estimators=1,\n",
              "                       n_jobs=None, oob_score=False, random_state=42, verbose=0,\n",
              "                       warm_start=False)"
            ]
          },
          "execution_count": null,
          "metadata": {},
          "output_type": "execute_result"
        }
      ],
      "source": [
        "# create Decision Tree with same configuration as our algorithm\n",
        "model = RandomForestClassifier(n_estimators=1, max_depth=1, bootstrap=False, random_state=42, max_features=None)\n",
        "model.fit(X_samp, y_samp)"
      ]
    },
    {
      "cell_type": "markdown",
      "metadata": {
        "id": "Ge75scITolsT"
      },
      "source": [
        "To aid with the comarison, let's also create a plotting function so we can visualise the nodes of our decision trees:"
      ]
    },
    {
      "cell_type": "code",
      "execution_count": null,
      "metadata": {
        "id": "eRXpbA6rolsT"
      },
      "outputs": [],
      "source": [
        "def draw_tree(fitted_model):\n",
        "    # get column names\n",
        "    feature_names = X_train_sub.columns\n",
        "    # define class names\n",
        "    class_names = [\"Background\", \"Signal\"]\n",
        "    fig, ax = plt.subplots(figsize=(30, 10))\n",
        "    # generate tree plot\n",
        "    plot_tree(\n",
        "        fitted_model.estimators_[0],\n",
        "        filled=True,\n",
        "        feature_names=feature_names,\n",
        "        class_names=class_names,\n",
        "        ax=ax,\n",
        "        fontsize=18,\n",
        "        proportion=True,\n",
        "    )\n",
        "    plt.show()"
      ]
    },
    {
      "cell_type": "code",
      "execution_count": null,
      "metadata": {
        "id": "Q4Faq-91olsU",
        "outputId": "258d4309-d8a3-435b-d8c9-9fc9095da930"
      },
      "outputs": [
        {
          "data": {
            "image/png": "[encoded data removed]",
            "text/plain": [
              "<Figure size 2160x720 with 1 Axes>"
            ]
          },
          "metadata": {
            "needs_background": "light"
          },
          "output_type": "display_data"
        }
      ],
      "source": [
        "draw_tree(model)"
      ]
    },
    {
      "cell_type": "markdown",
      "metadata": {
        "id": "89OScOF7olsY"
      },
      "source": [
        "To recreate this split, recall that scikit-learn uses the Classification And Regression Tree (CART) algorithm to train Decision Trees. Here the key idea is to search for the pair `(feature, split_point)` the produces the purest subsets, as measured by their Gini impurity. The function to minimise is given by\n",
        "\n",
        "$$ J(k, t_k) = \\frac{m_\\mathrm{left}}{m} G_\\mathrm{left} + \\frac{m_\\mathrm{right}}{m}G_\\mathrm{right} $$\n",
        "\n",
        "where $k$ is a single feature, $t_k$ is the split point (e.g. \"missing energy magnitude $\\leq$ 1.14), $m_\\mathrm{left/right}$ is the number of examples in the left/right subset, and $G_\\mathrm{left/right}$ is the Gini impurity. Thus for each feature $k$, the strategy will be to calculate $J(k, t_k)$ for every possible split point $t_k$ and update the score if it less than what we have seen already. Implemented as code, the result could look like:"
      ]
    },
    {
      "cell_type": "code",
      "execution_count": null,
      "metadata": {
        "id": "age77wMdolsZ"
      },
      "outputs": [],
      "source": [
        "def find_better_split(self, feature_index):\n",
        "    # get sample for a single feature\n",
        "    X, y = self.X.values[self.indices, feature_index], self.y.iloc[self.indices]\n",
        "\n",
        "    for t in range(self.n_samples):\n",
        "        # create boolean masks for samples above / below the split point t\n",
        "        lhs = X <= X[t]\n",
        "        rhs = X > X[t]\n",
        "\n",
        "        # continue if stopping criterion not reached\n",
        "        if rhs.sum() < self.min_samples_leaf or lhs.sum() < self.min_samples_leaf:\n",
        "            continue\n",
        "\n",
        "        # calculate Gini impurities for left and right nodes\n",
        "        lhs_gini = gini_impurity(self, y[lhs])\n",
        "        rhs_gini = gini_impurity(self, y[rhs])\n",
        "        # calculate score for current split point\n",
        "        curr_score = lhs_gini * len(y[lhs]) / len(y) + rhs_gini * len(y[rhs]) / len(y)\n",
        "        # update attributes if new score is smaller than old\n",
        "        if curr_score < self.score:\n",
        "            self.feature_index, self.score, self.split, self.gini = (\n",
        "                feature_index,\n",
        "                curr_score,\n",
        "                X[t],\n",
        "                gini_impurity(self, y),\n",
        "            )"
      ]
    },
    {
      "cell_type": "markdown",
      "metadata": {
        "id": "lndbwmpuolsa"
      },
      "source": [
        "Let's check this works by first calculating the best split point for `lepton 1 pT`:"
      ]
    },
    {
      "cell_type": "code",
      "execution_count": null,
      "metadata": {
        "id": "PoeGuRVUolsb",
        "outputId": "b3aac69c-3472-4808-8534-2f4589170cde"
      },
      "outputs": [
        {
          "name": "stdout",
          "output_type": "stream",
          "text": [
            "4 s ± 109 ms per loop (mean ± std. dev. of 7 runs, 1 loop each)\n"
          ]
        },
        {
          "data": {
            "text/plain": [
              "n_samples: 1000; value: [0.516 0.484]; gini: 0.49948800000000004; score: 0.406274337005304; feature: lepton 1 pT; split_point: 0.8724983930587769"
            ]
          },
          "execution_count": null,
          "metadata": {},
          "output_type": "execute_result"
        }
      ],
      "source": [
        "%timeit find_better_split(tree, feature_index=1)\n",
        "tree"
      ]
    },
    {
      "cell_type": "markdown",
      "metadata": {
        "id": "Rgz1GxHXolsb"
      },
      "source": [
        "Similarly for `missing energy magnitude` we find:"
      ]
    },
    {
      "cell_type": "code",
      "execution_count": null,
      "metadata": {
        "id": "g5x3jBQ5olsd",
        "outputId": "2a49b620-5115-4599-e366-0126a05f48ad"
      },
      "outputs": [
        {
          "data": {
            "text/plain": [
              "n_samples: 1000; value: [0.516 0.484]; gini: 0.49948800000000004; score: 0.3864820927729048; feature: missing energy magnitude; split_point: 1.1392959356307983"
            ]
          },
          "execution_count": null,
          "metadata": {},
          "output_type": "execute_result"
        }
      ],
      "source": [
        "find_better_split(tree, feature_index=0)\n",
        "tree"
      ]
    },
    {
      "cell_type": "markdown",
      "metadata": {
        "id": "_8aIwKBaolsd"
      },
      "source": [
        "It works! We see that `missing energy magnitude` has a lower score (i.e. cost $J$) than `lepton 1 pT`, and produces class probabilities and a Gini impurity consistent with scikit-learn. The downside is that our implementation is _slow_ - we can do better."
      ]
    },
    {
      "cell_type": "markdown",
      "metadata": {
        "id": "6Xruh1HOolse"
      },
      "source": [
        "### Speeding things up"
      ]
    },
    {
      "cell_type": "markdown",
      "metadata": {
        "id": "6E20XxHiolsf"
      },
      "source": [
        "One problem with our implementation above is that we're repeatedly checking whether every value is greater or less than a given split point $t_k$. We can speed up the algorithm by first _sorting_ the arrays and then observing that we can compute the Gini impurities efficiently by finding the index that separates the two groups (i.e. signal vs background).\n",
        "\n",
        "To that end, let's reset our Decision Tree:"
      ]
    },
    {
      "cell_type": "code",
      "execution_count": null,
      "metadata": {
        "id": "f3E6mDHXolsf"
      },
      "outputs": [],
      "source": [
        "tree = TreeEnsemble(X_train_sub, y_train, 1, 1000).trees[0]"
      ]
    },
    {
      "cell_type": "code",
      "execution_count": null,
      "metadata": {
        "id": "GFDxHVy7olsg"
      },
      "outputs": [],
      "source": [
        "def find_better_split(self, feature_index):\n",
        "    X, y = self.X.values[self.indices, feature_index], self.y.values[self.indices]\n",
        "\n",
        "    sorted_indices = np.argsort(X)\n",
        "    y_sorted, X_sorted = y[sorted_indices], X[sorted_indices]\n",
        "    index = 0\n",
        "\n",
        "    for i in range(0, self.n_samples - self.min_samples_leaf):\n",
        "        index += 1\n",
        "        Xi = X_sorted[i]\n",
        "        # continue if stopping criterion not reached\n",
        "        if i < self.min_samples_leaf - 1 or Xi == X_sorted[i + 1]:\n",
        "            continue\n",
        "\n",
        "        # calculate Gini impurities for left and right nodes\n",
        "        lhs_gini = gini_impurity(self, y_sorted[:index])\n",
        "        rhs_gini = gini_impurity(self, y_sorted[index:])\n",
        "        # calculate score for current split point\n",
        "        curr_score = lhs_gini * len(y_sorted[:index]) / len(y_sorted) + rhs_gini * len(y_sorted[index:]) / len(y_sorted)\n",
        "        # update attributes if new score is smaller than old\n",
        "        if curr_score < self.score:\n",
        "            self.feature_index, self.score, self.split, self.gini = (\n",
        "                feature_index,\n",
        "                curr_score,\n",
        "                X_sorted[i],\n",
        "                gini_impurity(self, y),\n",
        "            )"
      ]
    },
    {
      "cell_type": "code",
      "execution_count": null,
      "metadata": {
        "id": "pKgPURGVolsi",
        "outputId": "c35d2604-55d6-4943-f59a-6d8fa76c9254"
      },
      "outputs": [
        {
          "name": "stdout",
          "output_type": "stream",
          "text": [
            "64.8 ms ± 1.68 ms per loop (mean ± std. dev. of 7 runs, 10 loops each)\n"
          ]
        },
        {
          "data": {
            "text/plain": [
              "n_samples: 1000; value: [0.516 0.484]; gini: 0.49948800000000004; score: 0.406274337005304; feature: lepton 1 pT; split_point: 0.8724983930587769"
            ]
          },
          "execution_count": null,
          "metadata": {},
          "output_type": "execute_result"
        }
      ],
      "source": [
        "%timeit find_better_split(tree, feature_index=1)\n",
        "tree"
      ]
    },
    {
      "cell_type": "markdown",
      "metadata": {
        "id": "y1qB1bg6olsj"
      },
      "source": [
        "Not bad - we've reduced the complexity of our original algorithm from $O(n^2)$ to $O(n)$ to gain roughly a factor of 60x speed up! Let's check we recover the same result for `missing energy magnitude` as before:"
      ]
    },
    {
      "cell_type": "code",
      "execution_count": null,
      "metadata": {
        "id": "aFpggR7Tolsk",
        "outputId": "d43fe77c-45d2-41bf-da95-9c28180c6cd9"
      },
      "outputs": [
        {
          "data": {
            "text/plain": [
              "n_samples: 1000; value: [0.516 0.484]; gini: 0.49948800000000004; score: 0.3864820927729048; feature: missing energy magnitude; split_point: 1.1392959356307983"
            ]
          },
          "execution_count": null,
          "metadata": {},
          "output_type": "execute_result"
        }
      ],
      "source": [
        "find_better_split(tree, feature_index=0)\n",
        "tree"
      ]
    },
    {
      "cell_type": "markdown",
      "metadata": {
        "id": "GqNUAJoxolsl"
      },
      "source": [
        "Finally, we can override the function in our `DecisionTree` class so we can access it from our `TreeEnsemble`:"
      ]
    },
    {
      "cell_type": "code",
      "execution_count": null,
      "metadata": {
        "id": "JYEgFOIMolsl"
      },
      "outputs": [],
      "source": [
        "DecisionTree.find_better_split = find_better_split"
      ]
    },
    {
      "cell_type": "code",
      "execution_count": null,
      "metadata": {
        "id": "ujf2tccholsm",
        "outputId": "7313f858-3a35-46e2-9120-8c0181106180"
      },
      "outputs": [
        {
          "data": {
            "text/plain": [
              "n_samples: 1000; value: [0.516 0.484]; gini: 0.49948800000000004; score: 0.3864820927729048; feature: missing energy magnitude; split_point: 1.1392959356307983"
            ]
          },
          "execution_count": null,
          "metadata": {},
          "output_type": "execute_result"
        }
      ],
      "source": [
        "tree = TreeEnsemble(X_train, y_train, 1, 1000).trees[0]\n",
        "tree"
      ]
    },
    {
      "cell_type": "markdown",
      "metadata": {
        "id": "ICietFXuolsn"
      },
      "source": [
        "## Growing the full decision tree"
      ]
    },
    {
      "cell_type": "markdown",
      "metadata": {
        "id": "CIrgBWiyolso"
      },
      "source": [
        "So far we have worked out how to find the best split point for single now - we are now ready to tackle building the whole tree! Let's increase the depth in our scikit-learn model to compare against:"
      ]
    },
    {
      "cell_type": "code",
      "execution_count": null,
      "metadata": {
        "id": "e9-OkH4Folso",
        "outputId": "8e14060f-8b0e-4f6c-c98e-65a0754a3a00"
      },
      "outputs": [
        {
          "data": {
            "image/png": "[encoded data removed]",
            "text/plain": [
              "<Figure size 2160x720 with 1 Axes>"
            ]
          },
          "metadata": {
            "needs_background": "light"
          },
          "output_type": "display_data"
        }
      ],
      "source": [
        "model = RandomForestClassifier(n_estimators=1, max_depth=2, bootstrap=False, random_state=42, max_features=None)\n",
        "model.fit(X_samp, y_samp)\n",
        "\n",
        "draw_tree(model)"
      ]
    },
    {
      "cell_type": "markdown",
      "metadata": {
        "id": "Y_U05YY6olsp"
      },
      "source": [
        "Recall that our `DecisionTree` class has a simple function to find the best split:\n",
        "\n",
        "```python\n",
        "def find_feature_split(self):\n",
        "    for i in range(self.n_features):\n",
        "        self.find_better_split(i)\n",
        "```\n",
        "This is not quite sufficient it only checks for the best split at the root node, when in fact we need to check whether is a better split in the left and right child nodes. The following change to the code takes care of this:"
      ]
    },
    {
      "cell_type": "code",
      "execution_count": null,
      "metadata": {
        "id": "o9lxrDEtolsz"
      },
      "outputs": [],
      "source": [
        "def find_feature_split(self):\n",
        "    for i in range(self.n_features):\n",
        "        self.find_better_split(i)\n",
        "\n",
        "    if self.is_leaf:\n",
        "        return\n",
        "\n",
        "    X = self.split_feature\n",
        "    # grab indices for left and right nodes\n",
        "    lhs = np.nonzero(X <= self.split)[0]\n",
        "    rhs = np.nonzero(X > self.split)[0]\n",
        "    # recursively calculate decision trees for all nodes\n",
        "    self.lhs = DecisionTree(self.X, self.y, self.indices[lhs])\n",
        "    self.rhs = DecisionTree(self.X, self.y, self.indices[rhs])"
      ]
    },
    {
      "cell_type": "markdown",
      "metadata": {
        "id": "8RC_ksgiols0"
      },
      "source": [
        "Now we can override the function in our class and test we can reproduce the numbers in our scikit-learn tree:"
      ]
    },
    {
      "cell_type": "code",
      "execution_count": null,
      "metadata": {
        "id": "j7Xc23q1ols1"
      },
      "outputs": [],
      "source": [
        "DecisionTree.find_feature_split = find_feature_split"
      ]
    },
    {
      "cell_type": "code",
      "execution_count": null,
      "metadata": {
        "id": "E2IxiSgUols1",
        "outputId": "43617b58-edd0-48cf-ffa6-1d1f5eef5db4"
      },
      "outputs": [
        {
          "data": {
            "text/plain": [
              "n_samples: 1000; value: [0.516 0.484]; gini: 0.49948800000000004; score: 0.3864820927729048; feature: missing energy magnitude; split_point: 1.1392959356307983"
            ]
          },
          "execution_count": null,
          "metadata": {},
          "output_type": "execute_result"
        }
      ],
      "source": [
        "tree = TreeEnsemble(X_samp, y_samp, 1, 1000).trees[0]\n",
        "tree"
      ]
    },
    {
      "cell_type": "code",
      "execution_count": null,
      "metadata": {
        "id": "sHkBMDQVols2",
        "outputId": "2c88282c-fb48-42b5-a993-956747550933"
      },
      "outputs": [
        {
          "data": {
            "text/plain": [
              "n_samples: 707; value: [0.66902405 0.33097595]; gini: 0.4428617442467625; score: 0.3753049089041096; feature: lepton 1 pT; split_point: 0.8853832483291628"
            ]
          },
          "execution_count": null,
          "metadata": {},
          "output_type": "execute_result"
        }
      ],
      "source": [
        "tree.lhs"
      ]
    },
    {
      "cell_type": "code",
      "execution_count": null,
      "metadata": {
        "id": "uWNoVYylols3",
        "outputId": "9bae115a-5de6-4c8e-b8e6-2047ddeddcc0"
      },
      "outputs": [
        {
          "data": {
            "text/plain": [
              "n_samples: 293; value: [0.14675768 0.85324232]; gini: 0.2504397255646542; score: 0.22066400314213208; feature: missing energy magnitude; split_point: 1.4726196527481081"
            ]
          },
          "execution_count": null,
          "metadata": {},
          "output_type": "execute_result"
        }
      ],
      "source": [
        "tree.rhs"
      ]
    },
    {
      "cell_type": "code",
      "execution_count": null,
      "metadata": {
        "id": "Q3QtTZwZols3",
        "outputId": "e7b36c34-03aa-4823-889e-b3bfc0bce6f6"
      },
      "outputs": [
        {
          "data": {
            "text/plain": [
              "n_samples: 477; value: [0.7966457 0.2033543]; gini: 0.32400265460666544; score: 0.3118973109371423; feature: lepton 1 pT; split_point: 0.7281696796417235"
            ]
          },
          "execution_count": null,
          "metadata": {},
          "output_type": "execute_result"
        }
      ],
      "source": [
        "tree.lhs.lhs"
      ]
    },
    {
      "cell_type": "code",
      "execution_count": null,
      "metadata": {
        "id": "7AV-LM3Jols3",
        "outputId": "0ffbd9bb-7e2d-44a4-b00f-19c0b0bed8fc"
      },
      "outputs": [
        {
          "data": {
            "text/plain": [
              "n_samples: 230; value: [0.40434783 0.59565217]; gini: 0.4817013232514178; score: 0.4334455110107284; feature: lepton 1 pT; split_point: 1.5821422338485713"
            ]
          },
          "execution_count": null,
          "metadata": {},
          "output_type": "execute_result"
        }
      ],
      "source": [
        "tree.lhs.rhs"
      ]
    },
    {
      "cell_type": "code",
      "execution_count": null,
      "metadata": {
        "id": "MXgoQLMKols4",
        "outputId": "dddfb142-18e1-41df-cd1f-fb2623f4caca"
      },
      "outputs": [
        {
          "data": {
            "text/plain": [
              "n_samples: 102; value: [0.31372549 0.68627451]; gini: 0.43060361399461744; score: 0.37738731856378904; feature: lepton 1 pT; split_point: 0.6343935132026673"
            ]
          },
          "execution_count": null,
          "metadata": {},
          "output_type": "execute_result"
        }
      ],
      "source": [
        "tree.rhs.lhs"
      ]
    },
    {
      "cell_type": "code",
      "execution_count": null,
      "metadata": {
        "id": "5EQUh4Vcols4",
        "outputId": "996428c6-a875-425c-eb7f-f3f8b5ab326f"
      },
      "outputs": [
        {
          "data": {
            "text/plain": [
              "n_samples: 191; value: [0.05759162 0.94240838]; gini: 0.10854965598530741; score: 0.1032951765936059; feature: missing energy magnitude; split_point: 1.6436718702316286"
            ]
          },
          "execution_count": null,
          "metadata": {},
          "output_type": "execute_result"
        }
      ],
      "source": [
        "tree.rhs.rhs"
      ]
    },
    {
      "cell_type": "markdown",
      "metadata": {
        "id": "LFZr1kJSols9"
      },
      "source": [
        "Hooray, it works 🥳🥳🥳!"
      ]
    },
    {
      "cell_type": "markdown",
      "metadata": {
        "id": "b6HbHYWDols-"
      },
      "source": [
        "## Generate predictions"
      ]
    },
    {
      "cell_type": "markdown",
      "metadata": {
        "id": "FRhrf4isols-"
      },
      "source": [
        "Now that we have something that can train a Decision Tree, the next step is to implement the methods to generate predictions. Although we have `TreeEnsemble.predict` we do not have anything like this yet for `DecisionTree`. To make things more interesting, let's add a few more columns to our training set:"
      ]
    },
    {
      "cell_type": "code",
      "execution_count": null,
      "metadata": {
        "id": "nvMSRBi1ols-"
      },
      "outputs": [],
      "source": [
        "cols = [\"missing energy magnitude\", \"lepton 1 pT\", \"axial MET\", \"M_TR_2\", \"M_R\", \"S_R\"]\n",
        "\n",
        "X_train_sub = X_train[cols].copy()\n",
        "X_valid_sub = X_valid[cols].copy()"
      ]
    },
    {
      "cell_type": "markdown",
      "metadata": {
        "id": "AB8xAoK9ols_"
      },
      "source": [
        "Let's create our tree ensemble again to make sure we can compare against scikit-learn:"
      ]
    },
    {
      "cell_type": "code",
      "execution_count": null,
      "metadata": {
        "id": "7ZRLLpiVols_",
        "outputId": "f23ae71d-a86e-43a0-b0fc-79cfe19a929a"
      },
      "outputs": [
        {
          "name": "stdout",
          "output_type": "stream",
          "text": [
            "CPU times: user 13.1 s, sys: 289 ms, total: 13.4 s\n",
            "Wall time: 13.8 s\n"
          ]
        }
      ],
      "source": [
        "%time tree = TreeEnsemble(X_train_sub, y_train, 1, 1000).trees[0]\n",
        "X_samp, y_samp = tree.X, tree.y"
      ]
    },
    {
      "cell_type": "code",
      "execution_count": null,
      "metadata": {
        "id": "kNUfSCj3ols_",
        "outputId": "a0b636c7-92de-4702-8c8c-37be96193cac"
      },
      "outputs": [
        {
          "data": {
            "text/plain": [
              "RandomForestClassifier(bootstrap=False, ccp_alpha=0.0, class_weight=None,\n",
              "                       criterion='gini', max_depth=None, max_features=None,\n",
              "                       max_leaf_nodes=None, max_samples=None,\n",
              "                       min_impurity_decrease=0.0, min_impurity_split=None,\n",
              "                       min_samples_leaf=5, min_samples_split=2,\n",
              "                       min_weight_fraction_leaf=0.0, n_estimators=1,\n",
              "                       n_jobs=None, oob_score=False, random_state=42, verbose=0,\n",
              "                       warm_start=False)"
            ]
          },
          "execution_count": null,
          "metadata": {},
          "output_type": "execute_result"
        }
      ],
      "source": [
        "model = RandomForestClassifier(\n",
        "    n_estimators=1, max_depth=None, bootstrap=False, max_features=None, random_state=42, min_samples_leaf=5,\n",
        ")\n",
        "model.fit(X_samp, y_samp)"
      ]
    },
    {
      "cell_type": "markdown",
      "metadata": {
        "id": "hPkILjWwols_"
      },
      "source": [
        "To generate the predictions, we simply need to loop over each row in $X$ and build the array as follows:"
      ]
    },
    {
      "cell_type": "code",
      "execution_count": null,
      "metadata": {
        "id": "7UofYzrmoltA"
      },
      "outputs": [],
      "source": [
        "def predict(self, X):\n",
        "    return np.array([self.predict_row(Xi) for Xi in X])\n",
        "\n",
        "\n",
        "DecisionTree.predict = predict"
      ]
    },
    {
      "cell_type": "markdown",
      "metadata": {
        "id": "PGReqkymoltA"
      },
      "source": [
        "The final step is to implement `predict_row`, which is mostly trivial: if we're at a leaf note we return the class label with the highest probability, otherwise we figure out whether to traverse to the left or right child node, and so on:"
      ]
    },
    {
      "cell_type": "code",
      "execution_count": null,
      "metadata": {
        "id": "ahoTT6ZholtA"
      },
      "outputs": [],
      "source": [
        "def predict_row(self, Xi):\n",
        "    if self.is_leaf:\n",
        "        return self.value\n",
        "    t = self.lhs if Xi[self.feature_index] <= self.split else self.rhs\n",
        "    return t.predict_row(Xi)\n",
        "\n",
        "\n",
        "DecisionTree.predict_row = predict_row"
      ]
    },
    {
      "cell_type": "markdown",
      "metadata": {
        "id": "YbjtaJQ9oltB"
      },
      "source": [
        "With this we can now calculate our class probabilities:"
      ]
    },
    {
      "cell_type": "code",
      "execution_count": null,
      "metadata": {
        "id": "uXhfEazjoltB",
        "outputId": "ef24189d-2605-4b91-bb4f-2738cffc39ef"
      },
      "outputs": [
        {
          "name": "stdout",
          "output_type": "stream",
          "text": [
            "CPU times: user 246 ms, sys: 3.62 ms, total: 249 ms\n",
            "Wall time: 251 ms\n"
          ]
        }
      ],
      "source": [
        "%time probs = tree.predict(X_valid_sub.values)[:, 1]"
      ]
    },
    {
      "cell_type": "markdown",
      "metadata": {
        "id": "sM1RLvUdoltB"
      },
      "source": [
        "and evaluate the ROC AUC score on the validation set:"
      ]
    },
    {
      "cell_type": "code",
      "execution_count": null,
      "metadata": {
        "id": "FlYyZUraoltC",
        "outputId": "9c071972-8ed2-4df8-f64d-427852828595"
      },
      "outputs": [
        {
          "data": {
            "text/plain": [
              "0.7603031405574215"
            ]
          },
          "execution_count": null,
          "metadata": {},
          "output_type": "execute_result"
        }
      ],
      "source": [
        "roc_auc_score(y_valid, probs)"
      ]
    },
    {
      "cell_type": "markdown",
      "metadata": {
        "id": "zH4QJmkjoltC"
      },
      "source": [
        "How does this compare with scikit-learn's implementation? Let's find out by calculating their predictions and evaluating on the validation set:"
      ]
    },
    {
      "cell_type": "code",
      "execution_count": null,
      "metadata": {
        "id": "T-xV84mkoltC",
        "outputId": "64640d56-4715-4601-8a30-9e4a13e5bd1e"
      },
      "outputs": [
        {
          "data": {
            "text/plain": [
              "0.76246534984286"
            ]
          },
          "execution_count": null,
          "metadata": {},
          "output_type": "execute_result"
        }
      ],
      "source": [
        "probs_sklearn = model.predict_proba(X_valid_sub)[:, 1]\n",
        "roc_auc_score(y_valid, probs_sklearn)"
      ]
    },
    {
      "cell_type": "markdown",
      "metadata": {
        "id": "KTQR8MCcoltD"
      },
      "source": [
        "With a difference of < 1%, our implementation does not perform too badly at all!"
      ]
    },
    {
      "cell_type": "markdown",
      "metadata": {
        "id": "bbPc-_SmoltD"
      },
      "source": [
        "## Putting it together"
      ]
    },
    {
      "cell_type": "markdown",
      "metadata": {
        "id": "_fSU2nKeoltE"
      },
      "source": [
        "Let's wrap this up by collecting all of our class functions into two dedicated classes:"
      ]
    },
    {
      "cell_type": "code",
      "execution_count": null,
      "metadata": {
        "id": "Ak7BsHyzoltE"
      },
      "outputs": [],
      "source": [
        "class TreeEnsemble:\n",
        "    # instance attributes\n",
        "    def __init__(\n",
        "        self, X: np.ndarray, y: np.ndarray, n_trees: int, sample_size: int, min_samples_leaf: int = 5,\n",
        "    ):\n",
        "        # use constant random seed for testing\n",
        "        np.random.seed(42)\n",
        "        self.X = X\n",
        "        self.y = y\n",
        "        self.n_trees = n_trees\n",
        "        self.sample_size = sample_size\n",
        "        self.min_samples_leaf = min_samples_leaf\n",
        "\n",
        "        self.trees = [self.create_tree() for i in range(n_trees)]\n",
        "\n",
        "    # instance method\n",
        "    def create_tree(self):\n",
        "        # grab random subsample without replacement - no bootstrapping!\n",
        "        random_indices = np.random.permutation(len(self.y))[: self.sample_size]\n",
        "        return DecisionTree(\n",
        "            self.X.iloc[random_indices], self.y.iloc[random_indices], min_samples_leaf=self.min_samples_leaf,\n",
        "        )\n",
        "\n",
        "    # instance method\n",
        "    def predict(self, X):\n",
        "        return np.mean([t.predict(X) for t in self.trees], axis=0)"
      ]
    },
    {
      "cell_type": "code",
      "execution_count": null,
      "metadata": {
        "id": "WGlvkD7yoltF"
      },
      "outputs": [],
      "source": [
        "class DecisionTree:\n",
        "    def __init__(self, X, y, indices=None, min_samples_leaf=5):\n",
        "        # use all rows for root node\n",
        "        if indices is None:\n",
        "            indices = np.arange(len(y))\n",
        "\n",
        "        self.X = X\n",
        "        self.y = y\n",
        "        self.indices = indices\n",
        "        self.min_samples_leaf = min_samples_leaf\n",
        "\n",
        "        self.n_samples, self.n_features = len(indices), X.shape[1]\n",
        "        self.value = self.calculate_class_probabilities(self.y, self.indices)\n",
        "        self.gini = self.gini_impurity(self.y)\n",
        "        self.score = float(\"inf\")\n",
        "        self.find_feature_split()\n",
        "\n",
        "    def find_feature_split(self):\n",
        "        for i in range(self.n_features):\n",
        "            self.find_better_split(i)\n",
        "\n",
        "        if self.is_leaf:\n",
        "            return\n",
        "\n",
        "        X = self.split_feature\n",
        "        # grab indices for left and right nodes\n",
        "        lhs = np.nonzero(X <= self.split)[0]\n",
        "        rhs = np.nonzero(X > self.split)[0]\n",
        "        # recursively calculate decision trees for all nodes\n",
        "        self.lhs = DecisionTree(self.X, self.y, self.indices[lhs])\n",
        "        self.rhs = DecisionTree(self.X, self.y, self.indices[rhs])\n",
        "\n",
        "    def find_better_split(self, feature_index):\n",
        "        X, y = self.X.values[self.indices, feature_index], self.y.values[self.indices]\n",
        "\n",
        "        sorted_indices = np.argsort(X)\n",
        "        y_sorted, X_sorted = y[sorted_indices], X[sorted_indices]\n",
        "        index = 0\n",
        "\n",
        "        for i in range(0, self.n_samples - self.min_samples_leaf):\n",
        "            index += 1\n",
        "            Xi = X_sorted[i]\n",
        "            # continue if stopping criterion not reached\n",
        "            if i < self.min_samples_leaf - 1 or Xi == X_sorted[i + 1]:\n",
        "                continue\n",
        "\n",
        "            # calculate Gini impurities for left and right nodes\n",
        "            lhs_gini = gini_impurity(self, y_sorted[:index])\n",
        "            rhs_gini = gini_impurity(self, y_sorted[index:])\n",
        "            # calculate score for current split point\n",
        "            curr_score = lhs_gini * len(y_sorted[:index]) / len(y_sorted) + rhs_gini * len(y_sorted[index:]) / len(\n",
        "                y_sorted\n",
        "            )\n",
        "            # update attributes if new score is smaller than old\n",
        "            if curr_score < self.score:\n",
        "                self.feature_index, self.score, self.split, self.gini = (\n",
        "                    feature_index,\n",
        "                    curr_score,\n",
        "                    X_sorted[i],\n",
        "                    gini_impurity(self, y),\n",
        "                )\n",
        "\n",
        "    def calculate_class_probabilities(self, y: pd.Series, indices: np.ndarray):\n",
        "        probs = np.unique(y.iloc[indices], return_counts=True)[1] / len(y.iloc[indices])\n",
        "\n",
        "        # handle edge case when leaf only contains one sample\n",
        "        if len(probs) == 1:\n",
        "            if int(y.iloc[indices].values[0]) == 0:\n",
        "                value = np.array([1.0, 0.0])\n",
        "            else:\n",
        "                value = np.array([0.0, 1.0])\n",
        "        else:\n",
        "            value = probs\n",
        "\n",
        "        return value\n",
        "\n",
        "    def gini_impurity(self, y):\n",
        "        return 1.0 - np.sum((np.unique(y, return_counts=True)[1] / len(y)) ** 2)\n",
        "\n",
        "    def predict(self, X):\n",
        "        return np.array([self.predict_row(Xi) for Xi in X])\n",
        "\n",
        "    def predict_row(self, Xi):\n",
        "        if self.is_leaf:\n",
        "            return self.value\n",
        "        t = self.lhs if Xi[self.feature_index] <= self.split else self.rhs\n",
        "        return t.predict_row(Xi)\n",
        "\n",
        "    @property\n",
        "    def split_name(self):\n",
        "        return self.X.columns[self.feature_index]\n",
        "\n",
        "    @property\n",
        "    def split_feature(self):\n",
        "        return self.X.values[self.indices, self.feature_index]\n",
        "\n",
        "    @property\n",
        "    def is_leaf(self):\n",
        "        return self.score == float(\"inf\")\n",
        "\n",
        "    # convert object to string - see https://dbader.org/blog/python-repr-vs-str\n",
        "    def __repr__(self):\n",
        "        s = f\"n_samples: {self.n_samples}; value: {self.value}; gini: {self.gini}\"\n",
        "        if not self.is_leaf:\n",
        "            s += f\"; score: {self.score}; feature: {self.split_name}; split_point: {self.split}\"\n",
        "        return s"
      ]
    },
    {
      "cell_type": "markdown",
      "metadata": {
        "id": "h2No2T74oltF"
      },
      "source": [
        "As a sanity check, let's evaluate the performance on a single tree:"
      ]
    },
    {
      "cell_type": "code",
      "execution_count": null,
      "metadata": {
        "id": "7WVJ3dg7oltG",
        "outputId": "a3c647bf-d6bd-439d-bcdc-f7c62cefc363"
      },
      "outputs": [
        {
          "data": {
            "text/plain": [
              "0.7603031405574215"
            ]
          },
          "execution_count": null,
          "metadata": {},
          "output_type": "execute_result"
        }
      ],
      "source": [
        "tree = TreeEnsemble(X_train_sub, y_train, n_trees=1, sample_size=1000).trees[0]\n",
        "X_samp, y_samp = tree.X, tree.y\n",
        "\n",
        "# calculate class probabilities\n",
        "probs = tree.predict(X_valid_sub.values)[:, 1]\n",
        "# evaluate\n",
        "roc_auc_score(y_valid, probs)"
      ]
    },
    {
      "cell_type": "markdown",
      "metadata": {
        "id": "InvUdvvxoltG"
      },
      "source": [
        "This matches our earlier result, so let's now roll-out to a full forest and compare against scikit-learn:"
      ]
    },
    {
      "cell_type": "code",
      "execution_count": null,
      "metadata": {
        "id": "GF3y-vAGoltG",
        "outputId": "802002db-e371-4dfb-f3a3-cb276eae6a7e"
      },
      "outputs": [
        {
          "name": "stdout",
          "output_type": "stream",
          "text": [
            "CPU times: user 15.5 s, sys: 38.2 ms, total: 15.5 s\n",
            "Wall time: 15.7 s\n"
          ]
        },
        {
          "data": {
            "text/plain": [
              "0.8309216956906361"
            ]
          },
          "execution_count": null,
          "metadata": {},
          "output_type": "execute_result"
        }
      ],
      "source": [
        "%time rf = TreeEnsemble(X_train_sub, y_train, n_trees=5, sample_size=1000)\n",
        "\n",
        "probs = rf.predict(X_valid_sub.values)[:, 1]\n",
        "roc_auc_score(y_valid, probs)"
      ]
    },
    {
      "cell_type": "code",
      "execution_count": null,
      "metadata": {
        "id": "k_vLFb12oltG",
        "outputId": "16607aa3-c3bd-4049-8e79-f943067c437a"
      },
      "outputs": [
        {
          "data": {
            "text/plain": [
              "0.7794032635534188"
            ]
          },
          "execution_count": null,
          "metadata": {},
          "output_type": "execute_result"
        }
      ],
      "source": [
        "model = RandomForestClassifier(n_estimators=5, bootstrap=False, max_features=None, random_state=42, min_samples_leaf=5)\n",
        "model.fit(X_train_sub, y_train)\n",
        "\n",
        "probs_sklearn = model.predict_proba(X_valid_sub)[:, 1]\n",
        "roc_auc_score(y_valid, probs_sklearn)"
      ]
    },
    {
      "cell_type": "markdown",
      "metadata": {
        "id": "ziRdOGZQoltH"
      },
      "source": [
        "The final results are not the same, but ours did a little better, possibly due to differences in how we average the predictions across trees. In any case, we can be happy that our implementation that we wrote entirely from scratch is competitive with a well tested implementation!"
      ]
    },
    {
      "cell_type": "markdown",
      "metadata": {
        "id": "FGCoe3K2oltH"
      },
      "source": [
        "## Performance improvements with Cython and Numba"
      ]
    },
    {
      "cell_type": "markdown",
      "metadata": {
        "id": "ZvynPO_DoltH"
      },
      "source": [
        "Although our Random Forest implementation did OK on the ROC AUC score, its runtime performance leaves a lot to be desired. One way we could improve this is by following scikit-learn, who typically implement their algorithms in [Cython](https://cython.org/), which allows you to generate efficient C code from Python. To use Cython in a Jupyter notebook we call the magic function:"
      ]
    },
    {
      "cell_type": "code",
      "execution_count": null,
      "metadata": {
        "id": "46ISTMi9oltI"
      },
      "outputs": [],
      "source": [
        "%load_ext Cython"
      ]
    },
    {
      "cell_type": "markdown",
      "metadata": {
        "id": "dMRu5xxtoltI"
      },
      "source": [
        "and then can compare the pure Python function"
      ]
    },
    {
      "cell_type": "code",
      "execution_count": null,
      "metadata": {
        "id": "gMGiUV4AoltI"
      },
      "outputs": [],
      "source": [
        "def fib1(n):\n",
        "    a, b = 0, 1\n",
        "    while b < n:\n",
        "        a, b = b, a + b"
      ]
    },
    {
      "cell_type": "code",
      "execution_count": null,
      "metadata": {
        "id": "iInl1s0foltI",
        "outputId": "05631fb7-3188-44b2-81b1-78975e2e978f"
      },
      "outputs": [
        {
          "name": "stdout",
          "output_type": "stream",
          "text": [
            "478 ns ± 3 ns per loop (mean ± std. dev. of 7 runs, 1000000 loops each)\n"
          ]
        }
      ],
      "source": [
        "%timeit fib1(50)"
      ]
    },
    {
      "cell_type": "markdown",
      "metadata": {
        "id": "8lMgL-84oltJ"
      },
      "source": [
        "against it's compiled version"
      ]
    },
    {
      "cell_type": "code",
      "execution_count": null,
      "metadata": {
        "id": "WpRY6Co6oltJ"
      },
      "outputs": [],
      "source": [
        "%%cython\n",
        "def fib2(n):\n",
        "    a, b = 0, 1\n",
        "    while b < n:\n",
        "        a, b = b, a + b"
      ]
    },
    {
      "cell_type": "code",
      "execution_count": null,
      "metadata": {
        "id": "whIbtuTNoltJ",
        "outputId": "be2b647a-0e46-46fc-df5c-3ab02ffb124c"
      },
      "outputs": [
        {
          "name": "stdout",
          "output_type": "stream",
          "text": [
            "210 ns ± 4.99 ns per loop (mean ± std. dev. of 7 runs, 1000000 loops each)\n"
          ]
        }
      ],
      "source": [
        "%timeit fib2(50)"
      ]
    },
    {
      "cell_type": "markdown",
      "metadata": {
        "id": "llKe1VdRoltJ"
      },
      "source": [
        "We can gain even more performance gains by declaring the types explicitly:"
      ]
    },
    {
      "cell_type": "code",
      "execution_count": null,
      "metadata": {
        "id": "emboFG0GoltJ"
      },
      "outputs": [],
      "source": [
        "%%cython\n",
        "def fib3(int n):\n",
        "    cdef int b = 1\n",
        "    cdef int a = 0\n",
        "    cdef int t = 0\n",
        "    while b < n:\n",
        "        t = a\n",
        "        a = b\n",
        "        b = t + b"
      ]
    },
    {
      "cell_type": "code",
      "execution_count": null,
      "metadata": {
        "id": "fjw03pSRoltK",
        "outputId": "256838d2-63c2-4492-c58c-d45d9a96155a"
      },
      "outputs": [
        {
          "name": "stdout",
          "output_type": "stream",
          "text": [
            "41.6 ns ± 1.21 ns per loop (mean ± std. dev. of 7 runs, 10000000 loops each)\n"
          ]
        }
      ],
      "source": [
        "%timeit fib3(50)"
      ]
    },
    {
      "cell_type": "markdown",
      "metadata": {
        "id": "epJ9ta9aoltK"
      },
      "source": [
        "In practice, I find that [Numba](http://numba.pydata.org/) provides a powerful alternative to Cython and does away with the need to learn new data types etc. To use Numba one simply needs to import it and add a decorator to your functions:"
      ]
    },
    {
      "cell_type": "code",
      "execution_count": null,
      "metadata": {
        "id": "4IpliQZ1oltK"
      },
      "outputs": [],
      "source": [
        "from numba import njit"
      ]
    },
    {
      "cell_type": "code",
      "execution_count": null,
      "metadata": {
        "id": "AcatDMdqoltL"
      },
      "outputs": [],
      "source": [
        "@njit\n",
        "def fib4(n):\n",
        "    a, b = 0, 1\n",
        "    while b < n:\n",
        "        a, b = b, a + b"
      ]
    },
    {
      "cell_type": "code",
      "execution_count": null,
      "metadata": {
        "id": "LlVxV5y2oltN",
        "outputId": "c3db83d6-8a78-403c-f823-83b1756d88b0"
      },
      "outputs": [
        {
          "name": "stdout",
          "output_type": "stream",
          "text": [
            "109 ns ± 1.07 ns per loop (mean ± std. dev. of 7 runs, 10000000 loops each)\n"
          ]
        }
      ],
      "source": [
        "%timeit fib4(50)"
      ]
    },
    {
      "cell_type": "markdown",
      "metadata": {
        "id": "TefmtKgFoltN"
      },
      "source": [
        "This is especially useful when working with NumPy functions, consider for example the generation of the Mandelbrot set using NumPy:"
      ]
    },
    {
      "cell_type": "code",
      "execution_count": null,
      "metadata": {
        "id": "-WZ6QyYwoltN"
      },
      "outputs": [],
      "source": [
        "# example from - https://ipython-books.github.io/52-accelerating-pure-python-code-with-numba-and-just-in-time-compilation/\n",
        "size = 400\n",
        "iterations = 100\n",
        "\n",
        "\n",
        "def mandelbrot_1(size, iterations):\n",
        "    m = np.zeros((size, size))\n",
        "    for i in range(size):\n",
        "        for j in range(size):\n",
        "            c = -2 + 3.0 / size * j + 1j * (1.5 - 3.0 / size * i)\n",
        "            z = 0\n",
        "            for n in range(iterations):\n",
        "                if np.abs(z) <= 10:\n",
        "                    z = z * z + c\n",
        "                    m[i, j] = n\n",
        "                else:\n",
        "                    break\n",
        "    return m"
      ]
    },
    {
      "cell_type": "code",
      "execution_count": null,
      "metadata": {
        "id": "5kXbfx9-oltO",
        "outputId": "ae5abe71-5f11-44ba-d663-1a91f06256f2"
      },
      "outputs": [
        {
          "data": {
            "image/png": "[encoded data removed]",
            "text/plain": [
              "<Figure size 720x720 with 1 Axes>"
            ]
          },
          "metadata": {
            "needs_background": "light"
          },
          "output_type": "display_data"
        }
      ],
      "source": [
        "m = mandelbrot_1(size, iterations)\n",
        "fig, ax = plt.subplots(1, 1, figsize=(10, 10))\n",
        "ax.imshow(np.log(m), cmap=plt.cm.hot)\n",
        "ax.set_axis_off()"
      ]
    },
    {
      "cell_type": "code",
      "execution_count": null,
      "metadata": {
        "id": "9dHs5iBaoltO",
        "outputId": "bf64c564-20c8-473b-e2eb-514002733218"
      },
      "outputs": [
        {
          "name": "stdout",
          "output_type": "stream",
          "text": [
            "5.04 s ± 49 ms per loop (mean ± std. dev. of 7 runs, 1 loop each)\n"
          ]
        }
      ],
      "source": [
        "%timeit mandelbrot_1(size, iterations)"
      ]
    },
    {
      "cell_type": "markdown",
      "metadata": {
        "id": "d6LLeZB5oltO"
      },
      "source": [
        "Adding `@njit` as a decorator gives a 300x speedup!"
      ]
    },
    {
      "cell_type": "code",
      "execution_count": null,
      "metadata": {
        "id": "sfMAJexjoltO"
      },
      "outputs": [],
      "source": [
        "@njit\n",
        "def mandelbrot_2(size, iterations):\n",
        "    m = np.zeros((size, size))\n",
        "    for i in range(size):\n",
        "        for j in range(size):\n",
        "            c = -2 + 3.0 / size * j + 1j * (1.5 - 3.0 / size * i)\n",
        "            z = 0\n",
        "            for n in range(iterations):\n",
        "                if np.abs(z) <= 10:\n",
        "                    z = z * z + c\n",
        "                    m[i, j] = n\n",
        "                else:\n",
        "                    break\n",
        "    return m"
      ]
    },
    {
      "cell_type": "code",
      "execution_count": null,
      "metadata": {
        "id": "9ApI35BioltP",
        "outputId": "016d7203-2025-4829-b100-6bc9d480b682"
      },
      "outputs": [
        {
          "name": "stdout",
          "output_type": "stream",
          "text": [
            "16.6 ms ± 206 µs per loop (mean ± std. dev. of 7 runs, 100 loops each)\n"
          ]
        }
      ],
      "source": [
        "%timeit mandelbrot_2(size, iterations)"
      ]
    },
    {
      "cell_type": "markdown",
      "metadata": {
        "id": "3UTGo5lFoltP"
      },
      "source": [
        "## Exercises\n",
        "\n",
        "* An alternative measure of impurity is the so-called Shannon entropy, which measures the average information content of a message. In the context of classification, a set's entropy is zero when it contains examples of only one class. Use the definition of entropy\n",
        "$$ H_i = \\sum_{k=1}^n p_{i,k} \\log p_{i,k} $$\n",
        "to extend our `DecisionTree` class with a new `criterion` hyperparameter that allows one to use Gini impurity or entropy as a measure of a node's impurity.\n",
        "* In our implementation of `TreeEnsemble` we use all the features at every node to find the best split point. Extend the functionality by introducing a `max_features` hyperparameter that controls the number of features used at every node in a manner similar to scikit-learn."
      ]
    },
    {
      "cell_type": "code",
      "execution_count": null,
      "metadata": {
        "id": "oV-vAnAQoltP"
      },
      "outputs": [],
      "source": []
    }
  ],
  "metadata": {
    "kernelspec": {
      "display_name": "Python 3",
      "language": "python",
      "name": "python3"
    },
    "colab": {
      "provenance": []
    }
  },
  "nbformat": 4,
  "nbformat_minor": 0
}