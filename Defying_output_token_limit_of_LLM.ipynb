{
  "nbformat": 4,
  "nbformat_minor": 0,
  "metadata": {
    "colab": {
      "provenance": [],
      "authorship_tag": "ABX9TyOf0g2mqHk2Crbxnu7VPsMw",
      "include_colab_link": true
    },
    "kernelspec": {
      "name": "python3",
      "display_name": "Python 3"
    },
    "language_info": {
      "name": "python"
    }
  },
  "cells": [
    {
      "cell_type": "markdown",
      "metadata": {
        "id": "view-in-github",
        "colab_type": "text"
      },
      "source": [
        "<a href=\"https://colab.research.google.com/github/RakeshSharma21/Sessions_Notebook/blob/main/Defying_output_token_limit_of_LLM.ipynb\" target=\"_parent\"><img src=\"https://colab.research.google.com/assets/colab-badge.svg\" alt=\"Open In Colab\"/></a>"
      ]
    },
    {
      "cell_type": "markdown",
      "source": [
        "### Installing the required library"
      ],
      "metadata": {
        "id": "nJiSTOH6En_g"
      }
    },
    {
      "cell_type": "code",
      "execution_count": 1,
      "metadata": {
        "colab": {
          "base_uri": "https://localhost:8080/"
        },
        "id": "tPD4cZyMC82n",
        "outputId": "3051489e-0269-4898-feed-61c48f4f38f0"
      },
      "outputs": [
        {
          "output_type": "stream",
          "name": "stdout",
          "text": [
            "Collecting langchain\n",
            "  Downloading langchain-0.1.16-py3-none-any.whl (817 kB)\n",
            "\u001b[2K     \u001b[90m━━━━━━━━━━━━━━━━━━━━━━━━━━━━━━━━━━━━━━━━\u001b[0m \u001b[32m817.7/817.7 kB\u001b[0m \u001b[31m6.7 MB/s\u001b[0m eta \u001b[36m0:00:00\u001b[0m\n",
            "\u001b[?25hRequirement already satisfied: PyYAML>=5.3 in /usr/local/lib/python3.10/dist-packages (from langchain) (6.0.1)\n",
            "Requirement already satisfied: SQLAlchemy<3,>=1.4 in /usr/local/lib/python3.10/dist-packages (from langchain) (2.0.29)\n",
            "Requirement already satisfied: aiohttp<4.0.0,>=3.8.3 in /usr/local/lib/python3.10/dist-packages (from langchain) (3.9.5)\n",
            "Requirement already satisfied: async-timeout<5.0.0,>=4.0.0 in /usr/local/lib/python3.10/dist-packages (from langchain) (4.0.3)\n",
            "Collecting dataclasses-json<0.7,>=0.5.7 (from langchain)\n",
            "  Downloading dataclasses_json-0.6.4-py3-none-any.whl (28 kB)\n",
            "Collecting jsonpatch<2.0,>=1.33 (from langchain)\n",
            "  Downloading jsonpatch-1.33-py2.py3-none-any.whl (12 kB)\n",
            "Collecting langchain-community<0.1,>=0.0.32 (from langchain)\n",
            "  Downloading langchain_community-0.0.34-py3-none-any.whl (1.9 MB)\n",
            "\u001b[2K     \u001b[90m━━━━━━━━━━━━━━━━━━━━━━━━━━━━━━━━━━━━━━━━\u001b[0m \u001b[32m1.9/1.9 MB\u001b[0m \u001b[31m47.9 MB/s\u001b[0m eta \u001b[36m0:00:00\u001b[0m\n",
            "\u001b[?25hCollecting langchain-core<0.2.0,>=0.1.42 (from langchain)\n",
            "  Downloading langchain_core-0.1.45-py3-none-any.whl (291 kB)\n",
            "\u001b[2K     \u001b[90m━━━━━━━━━━━━━━━━━━━━━━━━━━━━━━━━━━━━━━━━\u001b[0m \u001b[32m291.3/291.3 kB\u001b[0m \u001b[31m21.0 MB/s\u001b[0m eta \u001b[36m0:00:00\u001b[0m\n",
            "\u001b[?25hCollecting langchain-text-splitters<0.1,>=0.0.1 (from langchain)\n",
            "  Downloading langchain_text_splitters-0.0.1-py3-none-any.whl (21 kB)\n",
            "Collecting langsmith<0.2.0,>=0.1.17 (from langchain)\n",
            "  Downloading langsmith-0.1.49-py3-none-any.whl (115 kB)\n",
            "\u001b[2K     \u001b[90m━━━━━━━━━━━━━━━━━━━━━━━━━━━━━━━━━━━━━━━━\u001b[0m \u001b[32m115.2/115.2 kB\u001b[0m \u001b[31m8.3 MB/s\u001b[0m eta \u001b[36m0:00:00\u001b[0m\n",
            "\u001b[?25hRequirement already satisfied: numpy<2,>=1 in /usr/local/lib/python3.10/dist-packages (from langchain) (1.25.2)\n",
            "Requirement already satisfied: pydantic<3,>=1 in /usr/local/lib/python3.10/dist-packages (from langchain) (2.7.0)\n",
            "Requirement already satisfied: requests<3,>=2 in /usr/local/lib/python3.10/dist-packages (from langchain) (2.31.0)\n",
            "Requirement already satisfied: tenacity<9.0.0,>=8.1.0 in /usr/local/lib/python3.10/dist-packages (from langchain) (8.2.3)\n",
            "Requirement already satisfied: aiosignal>=1.1.2 in /usr/local/lib/python3.10/dist-packages (from aiohttp<4.0.0,>=3.8.3->langchain) (1.3.1)\n",
            "Requirement already satisfied: attrs>=17.3.0 in /usr/local/lib/python3.10/dist-packages (from aiohttp<4.0.0,>=3.8.3->langchain) (23.2.0)\n",
            "Requirement already satisfied: frozenlist>=1.1.1 in /usr/local/lib/python3.10/dist-packages (from aiohttp<4.0.0,>=3.8.3->langchain) (1.4.1)\n",
            "Requirement already satisfied: multidict<7.0,>=4.5 in /usr/local/lib/python3.10/dist-packages (from aiohttp<4.0.0,>=3.8.3->langchain) (6.0.5)\n",
            "Requirement already satisfied: yarl<2.0,>=1.0 in /usr/local/lib/python3.10/dist-packages (from aiohttp<4.0.0,>=3.8.3->langchain) (1.9.4)\n",
            "Collecting marshmallow<4.0.0,>=3.18.0 (from dataclasses-json<0.7,>=0.5.7->langchain)\n",
            "  Downloading marshmallow-3.21.1-py3-none-any.whl (49 kB)\n",
            "\u001b[2K     \u001b[90m━━━━━━━━━━━━━━━━━━━━━━━━━━━━━━━━━━━━━━━━\u001b[0m \u001b[32m49.4/49.4 kB\u001b[0m \u001b[31m3.1 MB/s\u001b[0m eta \u001b[36m0:00:00\u001b[0m\n",
            "\u001b[?25hCollecting typing-inspect<1,>=0.4.0 (from dataclasses-json<0.7,>=0.5.7->langchain)\n",
            "  Downloading typing_inspect-0.9.0-py3-none-any.whl (8.8 kB)\n",
            "Collecting jsonpointer>=1.9 (from jsonpatch<2.0,>=1.33->langchain)\n",
            "  Downloading jsonpointer-2.4-py2.py3-none-any.whl (7.8 kB)\n",
            "Collecting packaging<24.0,>=23.2 (from langchain-core<0.2.0,>=0.1.42->langchain)\n",
            "  Downloading packaging-23.2-py3-none-any.whl (53 kB)\n",
            "\u001b[2K     \u001b[90m━━━━━━━━━━━━━━━━━━━━━━━━━━━━━━━━━━━━━━━━\u001b[0m \u001b[32m53.0/53.0 kB\u001b[0m \u001b[31m4.2 MB/s\u001b[0m eta \u001b[36m0:00:00\u001b[0m\n",
            "\u001b[?25hCollecting orjson<4.0.0,>=3.9.14 (from langsmith<0.2.0,>=0.1.17->langchain)\n",
            "  Downloading orjson-3.10.1-cp310-cp310-manylinux_2_17_x86_64.manylinux2014_x86_64.whl (141 kB)\n",
            "\u001b[2K     \u001b[90m━━━━━━━━━━━━━━━━━━━━━━━━━━━━━━━━━━━━━━━━\u001b[0m \u001b[32m141.1/141.1 kB\u001b[0m \u001b[31m2.6 MB/s\u001b[0m eta \u001b[36m0:00:00\u001b[0m\n",
            "\u001b[?25hRequirement already satisfied: annotated-types>=0.4.0 in /usr/local/lib/python3.10/dist-packages (from pydantic<3,>=1->langchain) (0.6.0)\n",
            "Requirement already satisfied: pydantic-core==2.18.1 in /usr/local/lib/python3.10/dist-packages (from pydantic<3,>=1->langchain) (2.18.1)\n",
            "Requirement already satisfied: typing-extensions>=4.6.1 in /usr/local/lib/python3.10/dist-packages (from pydantic<3,>=1->langchain) (4.11.0)\n",
            "Requirement already satisfied: charset-normalizer<4,>=2 in /usr/local/lib/python3.10/dist-packages (from requests<3,>=2->langchain) (3.3.2)\n",
            "Requirement already satisfied: idna<4,>=2.5 in /usr/local/lib/python3.10/dist-packages (from requests<3,>=2->langchain) (3.7)\n",
            "Requirement already satisfied: urllib3<3,>=1.21.1 in /usr/local/lib/python3.10/dist-packages (from requests<3,>=2->langchain) (2.0.7)\n",
            "Requirement already satisfied: certifi>=2017.4.17 in /usr/local/lib/python3.10/dist-packages (from requests<3,>=2->langchain) (2024.2.2)\n",
            "Requirement already satisfied: greenlet!=0.4.17 in /usr/local/lib/python3.10/dist-packages (from SQLAlchemy<3,>=1.4->langchain) (3.0.3)\n",
            "Collecting mypy-extensions>=0.3.0 (from typing-inspect<1,>=0.4.0->dataclasses-json<0.7,>=0.5.7->langchain)\n",
            "  Downloading mypy_extensions-1.0.0-py3-none-any.whl (4.7 kB)\n",
            "Installing collected packages: packaging, orjson, mypy-extensions, jsonpointer, typing-inspect, marshmallow, jsonpatch, langsmith, dataclasses-json, langchain-core, langchain-text-splitters, langchain-community, langchain\n",
            "  Attempting uninstall: packaging\n",
            "    Found existing installation: packaging 24.0\n",
            "    Uninstalling packaging-24.0:\n",
            "      Successfully uninstalled packaging-24.0\n",
            "Successfully installed dataclasses-json-0.6.4 jsonpatch-1.33 jsonpointer-2.4 langchain-0.1.16 langchain-community-0.0.34 langchain-core-0.1.45 langchain-text-splitters-0.0.1 langsmith-0.1.49 marshmallow-3.21.1 mypy-extensions-1.0.0 orjson-3.10.1 packaging-23.2 typing-inspect-0.9.0\n",
            "Requirement already satisfied: langchain_core in /usr/local/lib/python3.10/dist-packages (0.1.45)\n",
            "Requirement already satisfied: PyYAML>=5.3 in /usr/local/lib/python3.10/dist-packages (from langchain_core) (6.0.1)\n",
            "Requirement already satisfied: jsonpatch<2.0,>=1.33 in /usr/local/lib/python3.10/dist-packages (from langchain_core) (1.33)\n",
            "Requirement already satisfied: langsmith<0.2.0,>=0.1.0 in /usr/local/lib/python3.10/dist-packages (from langchain_core) (0.1.49)\n",
            "Requirement already satisfied: packaging<24.0,>=23.2 in /usr/local/lib/python3.10/dist-packages (from langchain_core) (23.2)\n",
            "Requirement already satisfied: pydantic<3,>=1 in /usr/local/lib/python3.10/dist-packages (from langchain_core) (2.7.0)\n",
            "Requirement already satisfied: tenacity<9.0.0,>=8.1.0 in /usr/local/lib/python3.10/dist-packages (from langchain_core) (8.2.3)\n",
            "Requirement already satisfied: jsonpointer>=1.9 in /usr/local/lib/python3.10/dist-packages (from jsonpatch<2.0,>=1.33->langchain_core) (2.4)\n",
            "Requirement already satisfied: orjson<4.0.0,>=3.9.14 in /usr/local/lib/python3.10/dist-packages (from langsmith<0.2.0,>=0.1.0->langchain_core) (3.10.1)\n",
            "Requirement already satisfied: requests<3,>=2 in /usr/local/lib/python3.10/dist-packages (from langsmith<0.2.0,>=0.1.0->langchain_core) (2.31.0)\n",
            "Requirement already satisfied: annotated-types>=0.4.0 in /usr/local/lib/python3.10/dist-packages (from pydantic<3,>=1->langchain_core) (0.6.0)\n",
            "Requirement already satisfied: pydantic-core==2.18.1 in /usr/local/lib/python3.10/dist-packages (from pydantic<3,>=1->langchain_core) (2.18.1)\n",
            "Requirement already satisfied: typing-extensions>=4.6.1 in /usr/local/lib/python3.10/dist-packages (from pydantic<3,>=1->langchain_core) (4.11.0)\n",
            "Requirement already satisfied: charset-normalizer<4,>=2 in /usr/local/lib/python3.10/dist-packages (from requests<3,>=2->langsmith<0.2.0,>=0.1.0->langchain_core) (3.3.2)\n",
            "Requirement already satisfied: idna<4,>=2.5 in /usr/local/lib/python3.10/dist-packages (from requests<3,>=2->langsmith<0.2.0,>=0.1.0->langchain_core) (3.7)\n",
            "Requirement already satisfied: urllib3<3,>=1.21.1 in /usr/local/lib/python3.10/dist-packages (from requests<3,>=2->langsmith<0.2.0,>=0.1.0->langchain_core) (2.0.7)\n",
            "Requirement already satisfied: certifi>=2017.4.17 in /usr/local/lib/python3.10/dist-packages (from requests<3,>=2->langsmith<0.2.0,>=0.1.0->langchain_core) (2024.2.2)\n",
            "Collecting langchain-anthropic\n",
            "  Downloading langchain_anthropic-0.1.11-py3-none-any.whl (16 kB)\n",
            "Collecting anthropic<1,>=0.23.0 (from langchain-anthropic)\n",
            "  Downloading anthropic-0.25.6-py3-none-any.whl (870 kB)\n",
            "\u001b[2K     \u001b[90m━━━━━━━━━━━━━━━━━━━━━━━━━━━━━━━━━━━━━━━━\u001b[0m \u001b[32m870.7/870.7 kB\u001b[0m \u001b[31m13.7 MB/s\u001b[0m eta \u001b[36m0:00:00\u001b[0m\n",
            "\u001b[?25hRequirement already satisfied: defusedxml<0.8.0,>=0.7.1 in /usr/local/lib/python3.10/dist-packages (from langchain-anthropic) (0.7.1)\n",
            "Requirement already satisfied: langchain-core<0.2.0,>=0.1.43 in /usr/local/lib/python3.10/dist-packages (from langchain-anthropic) (0.1.45)\n",
            "Requirement already satisfied: anyio<5,>=3.5.0 in /usr/local/lib/python3.10/dist-packages (from anthropic<1,>=0.23.0->langchain-anthropic) (3.7.1)\n",
            "Requirement already satisfied: distro<2,>=1.7.0 in /usr/lib/python3/dist-packages (from anthropic<1,>=0.23.0->langchain-anthropic) (1.7.0)\n",
            "Collecting httpx<1,>=0.23.0 (from anthropic<1,>=0.23.0->langchain-anthropic)\n",
            "  Downloading httpx-0.27.0-py3-none-any.whl (75 kB)\n",
            "\u001b[2K     \u001b[90m━━━━━━━━━━━━━━━━━━━━━━━━━━━━━━━━━━━━━━━━\u001b[0m \u001b[32m75.6/75.6 kB\u001b[0m \u001b[31m8.7 MB/s\u001b[0m eta \u001b[36m0:00:00\u001b[0m\n",
            "\u001b[?25hRequirement already satisfied: pydantic<3,>=1.9.0 in /usr/local/lib/python3.10/dist-packages (from anthropic<1,>=0.23.0->langchain-anthropic) (2.7.0)\n",
            "Requirement already satisfied: sniffio in /usr/local/lib/python3.10/dist-packages (from anthropic<1,>=0.23.0->langchain-anthropic) (1.3.1)\n",
            "Requirement already satisfied: tokenizers>=0.13.0 in /usr/local/lib/python3.10/dist-packages (from anthropic<1,>=0.23.0->langchain-anthropic) (0.15.2)\n",
            "Requirement already satisfied: typing-extensions<5,>=4.7 in /usr/local/lib/python3.10/dist-packages (from anthropic<1,>=0.23.0->langchain-anthropic) (4.11.0)\n",
            "Requirement already satisfied: PyYAML>=5.3 in /usr/local/lib/python3.10/dist-packages (from langchain-core<0.2.0,>=0.1.43->langchain-anthropic) (6.0.1)\n",
            "Requirement already satisfied: jsonpatch<2.0,>=1.33 in /usr/local/lib/python3.10/dist-packages (from langchain-core<0.2.0,>=0.1.43->langchain-anthropic) (1.33)\n",
            "Requirement already satisfied: langsmith<0.2.0,>=0.1.0 in /usr/local/lib/python3.10/dist-packages (from langchain-core<0.2.0,>=0.1.43->langchain-anthropic) (0.1.49)\n",
            "Requirement already satisfied: packaging<24.0,>=23.2 in /usr/local/lib/python3.10/dist-packages (from langchain-core<0.2.0,>=0.1.43->langchain-anthropic) (23.2)\n",
            "Requirement already satisfied: tenacity<9.0.0,>=8.1.0 in /usr/local/lib/python3.10/dist-packages (from langchain-core<0.2.0,>=0.1.43->langchain-anthropic) (8.2.3)\n",
            "Requirement already satisfied: idna>=2.8 in /usr/local/lib/python3.10/dist-packages (from anyio<5,>=3.5.0->anthropic<1,>=0.23.0->langchain-anthropic) (3.7)\n",
            "Requirement already satisfied: exceptiongroup in /usr/local/lib/python3.10/dist-packages (from anyio<5,>=3.5.0->anthropic<1,>=0.23.0->langchain-anthropic) (1.2.0)\n",
            "Requirement already satisfied: certifi in /usr/local/lib/python3.10/dist-packages (from httpx<1,>=0.23.0->anthropic<1,>=0.23.0->langchain-anthropic) (2024.2.2)\n",
            "Collecting httpcore==1.* (from httpx<1,>=0.23.0->anthropic<1,>=0.23.0->langchain-anthropic)\n",
            "  Downloading httpcore-1.0.5-py3-none-any.whl (77 kB)\n",
            "\u001b[2K     \u001b[90m━━━━━━━━━━━━━━━━━━━━━━━━━━━━━━━━━━━━━━━━\u001b[0m \u001b[32m77.9/77.9 kB\u001b[0m \u001b[31m8.3 MB/s\u001b[0m eta \u001b[36m0:00:00\u001b[0m\n",
            "\u001b[?25hCollecting h11<0.15,>=0.13 (from httpcore==1.*->httpx<1,>=0.23.0->anthropic<1,>=0.23.0->langchain-anthropic)\n",
            "  Downloading h11-0.14.0-py3-none-any.whl (58 kB)\n",
            "\u001b[2K     \u001b[90m━━━━━━━━━━━━━━━━━━━━━━━━━━━━━━━━━━━━━━━━\u001b[0m \u001b[32m58.3/58.3 kB\u001b[0m \u001b[31m6.9 MB/s\u001b[0m eta \u001b[36m0:00:00\u001b[0m\n",
            "\u001b[?25hRequirement already satisfied: jsonpointer>=1.9 in /usr/local/lib/python3.10/dist-packages (from jsonpatch<2.0,>=1.33->langchain-core<0.2.0,>=0.1.43->langchain-anthropic) (2.4)\n",
            "Requirement already satisfied: orjson<4.0.0,>=3.9.14 in /usr/local/lib/python3.10/dist-packages (from langsmith<0.2.0,>=0.1.0->langchain-core<0.2.0,>=0.1.43->langchain-anthropic) (3.10.1)\n",
            "Requirement already satisfied: requests<3,>=2 in /usr/local/lib/python3.10/dist-packages (from langsmith<0.2.0,>=0.1.0->langchain-core<0.2.0,>=0.1.43->langchain-anthropic) (2.31.0)\n",
            "Requirement already satisfied: annotated-types>=0.4.0 in /usr/local/lib/python3.10/dist-packages (from pydantic<3,>=1.9.0->anthropic<1,>=0.23.0->langchain-anthropic) (0.6.0)\n",
            "Requirement already satisfied: pydantic-core==2.18.1 in /usr/local/lib/python3.10/dist-packages (from pydantic<3,>=1.9.0->anthropic<1,>=0.23.0->langchain-anthropic) (2.18.1)\n",
            "Requirement already satisfied: huggingface_hub<1.0,>=0.16.4 in /usr/local/lib/python3.10/dist-packages (from tokenizers>=0.13.0->anthropic<1,>=0.23.0->langchain-anthropic) (0.20.3)\n",
            "Requirement already satisfied: filelock in /usr/local/lib/python3.10/dist-packages (from huggingface_hub<1.0,>=0.16.4->tokenizers>=0.13.0->anthropic<1,>=0.23.0->langchain-anthropic) (3.13.4)\n",
            "Requirement already satisfied: fsspec>=2023.5.0 in /usr/local/lib/python3.10/dist-packages (from huggingface_hub<1.0,>=0.16.4->tokenizers>=0.13.0->anthropic<1,>=0.23.0->langchain-anthropic) (2023.6.0)\n",
            "Requirement already satisfied: tqdm>=4.42.1 in /usr/local/lib/python3.10/dist-packages (from huggingface_hub<1.0,>=0.16.4->tokenizers>=0.13.0->anthropic<1,>=0.23.0->langchain-anthropic) (4.66.2)\n",
            "Requirement already satisfied: charset-normalizer<4,>=2 in /usr/local/lib/python3.10/dist-packages (from requests<3,>=2->langsmith<0.2.0,>=0.1.0->langchain-core<0.2.0,>=0.1.43->langchain-anthropic) (3.3.2)\n",
            "Requirement already satisfied: urllib3<3,>=1.21.1 in /usr/local/lib/python3.10/dist-packages (from requests<3,>=2->langsmith<0.2.0,>=0.1.0->langchain-core<0.2.0,>=0.1.43->langchain-anthropic) (2.0.7)\n",
            "Installing collected packages: h11, httpcore, httpx, anthropic, langchain-anthropic\n",
            "Successfully installed anthropic-0.25.6 h11-0.14.0 httpcore-1.0.5 httpx-0.27.0 langchain-anthropic-0.1.11\n"
          ]
        }
      ],
      "source": [
        "!pip install langchain\n",
        "!pip install langchain_core\n",
        "!pip install langchain-anthropic"
      ]
    },
    {
      "cell_type": "code",
      "source": [
        "anthropic_key=\"put your key here\"\n"
      ],
      "metadata": {
        "id": "OlRteaHYFeGB"
      },
      "execution_count": 4,
      "outputs": []
    },
    {
      "cell_type": "markdown",
      "source": [
        "### setting up anthropic claude-3-opus"
      ],
      "metadata": {
        "id": "8B5ASqzjQm6R"
      }
    },
    {
      "cell_type": "markdown",
      "source": [
        "In this demonstration, we will be utilizing the Anthropic Claude V3 Opus model, setting the maximum sample token limit to 100. This will illustrate how we can generate outputs exceeding the allowed token count."
      ],
      "metadata": {
        "id": "JyWHMuViEt1l"
      }
    },
    {
      "cell_type": "code",
      "source": [
        "from langchain_anthropic import ChatAnthropic\n",
        "model = ChatAnthropic(model='claude-3-opus-20240229',anthropic_api_key=anthropic_key,max_tokens=100)"
      ],
      "metadata": {
        "id": "zhgRY5RUDHvq"
      },
      "execution_count": 5,
      "outputs": []
    },
    {
      "cell_type": "markdown",
      "source": [
        "#### First chunk generation"
      ],
      "metadata": {
        "id": "4s85D-7-Rtr8"
      }
    },
    {
      "cell_type": "code",
      "source": [
        "first_output = model.invoke('write the pizza receipe')"
      ],
      "metadata": {
        "id": "pN4-Srz_FumU"
      },
      "execution_count": 7,
      "outputs": []
    },
    {
      "cell_type": "code",
      "source": [
        "first_output.content"
      ],
      "metadata": {
        "colab": {
          "base_uri": "https://localhost:8080/",
          "height": 70
        },
        "id": "AWvZ33KPGU8P",
        "outputId": "fa1cf58f-e126-4ff3-bc24-6bc072e02316"
      },
      "execution_count": 9,
      "outputs": [
        {
          "output_type": "execute_result",
          "data": {
            "text/plain": [
              "\"Sure, here's a basic recipe for making pizza:\\n\\nIngredients:\\n\\n- 1 lb pizza dough (homemade or store-bought)\\n- 1/2 cup tomato sauce\\n- 1 cup shredded mozzarella cheese\\n- 1/4 cup grated Parmesan cheese\\n- Toppings of your choice (e.g., pepperoni, mushrooms, olives, onions,\""
            ],
            "application/vnd.google.colaboratory.intrinsic+json": {
              "type": "string"
            }
          },
          "metadata": {},
          "execution_count": 9
        }
      ]
    },
    {
      "cell_type": "markdown",
      "source": [
        "Here you can see that the model abruptly stops at \"onions\" and does not provide the full recipe for baking pizza. Let's explore the reason behind this sudden halt."
      ],
      "metadata": {
        "id": "xYZXkpFVGtlR"
      }
    },
    {
      "cell_type": "code",
      "source": [
        "first_output.response_metadata"
      ],
      "metadata": {
        "colab": {
          "base_uri": "https://localhost:8080/"
        },
        "id": "onBDhkchGjC1",
        "outputId": "a458f5e9-f77d-427b-bac5-25e4bafe20a7"
      },
      "execution_count": 10,
      "outputs": [
        {
          "output_type": "execute_result",
          "data": {
            "text/plain": [
              "{'id': 'msg_014QnaieyFEYZxNekNhktxb7',\n",
              " 'model': 'claude-3-opus-20240229',\n",
              " 'stop_reason': 'max_tokens',\n",
              " 'stop_sequence': None,\n",
              " 'usage': {'input_tokens': 12, 'output_tokens': 100}}"
            ]
          },
          "metadata": {},
          "execution_count": 10
        }
      ]
    },
    {
      "cell_type": "markdown",
      "source": [
        "Here we can observe why the model stopped abruptly: it reached the specified maximum token limit."
      ],
      "metadata": {
        "id": "2nW5iIlVHMye"
      }
    },
    {
      "cell_type": "markdown",
      "source": [
        "#### Second chunk generation"
      ],
      "metadata": {
        "id": "sGgG7EvmRxvt"
      }
    },
    {
      "cell_type": "markdown",
      "source": [
        "To generate the next section of the pizza recipe, we can utilize the functionality of the chat model. By providing the history of the chat as context, the model can respond accordingly. In this example, we will input the initial part of the recipe to help the model generate the subsequent portion. Let’s give it a try."
      ],
      "metadata": {
        "id": "AMQbEOXGIEf_"
      }
    },
    {
      "cell_type": "code",
      "source": [
        "second_output = model.invoke('write the pizza receipe '+first_output.content)"
      ],
      "metadata": {
        "id": "e4V-EiAIICOQ"
      },
      "execution_count": 11,
      "outputs": []
    },
    {
      "cell_type": "code",
      "source": [
        "second_output"
      ],
      "metadata": {
        "colab": {
          "base_uri": "https://localhost:8080/"
        },
        "id": "tcokMQp6JKJi",
        "outputId": "3f6b1cce-288c-4009-d2e8-a4c1c96b5570"
      },
      "execution_count": 12,
      "outputs": [
        {
          "output_type": "execute_result",
          "data": {
            "text/plain": [
              "AIMessage(content='bell peppers)\\n- 1 tsp olive oil\\n- 1/2 tsp dried oregano\\n- Salt and pepper to taste\\n\\nInstructions:\\n\\n1. Preheat your oven to 450°F (230°C).\\n\\n2. If using store-bought dough, let it come to room temperature. If making homemade dough, prepare it according to the recipe.\\n\\n3. Stretch or roll out the pizza dough', response_metadata={'id': 'msg_01G39owdfNeQmiqWhSR3VUfy', 'model': 'claude-3-opus-20240229', 'stop_reason': 'max_tokens', 'stop_sequence': None, 'usage': {'input_tokens': 112, 'output_tokens': 100}}, id='run-11d47821-f943-447f-af21-4db047ee6f3c-0')"
            ]
          },
          "metadata": {},
          "execution_count": 12
        }
      ]
    },
    {
      "cell_type": "markdown",
      "source": [
        "It appears to make sense selecting the next word immediately after \"onion.\" Let's see how it looks when we combine the first and second outputs."
      ],
      "metadata": {
        "id": "mKspyxOFJUJh"
      }
    },
    {
      "cell_type": "code",
      "source": [
        "print(first_output.content+ second_output.content)"
      ],
      "metadata": {
        "colab": {
          "base_uri": "https://localhost:8080/"
        },
        "id": "vir_So_yJnUi",
        "outputId": "a34f93b0-8519-46a6-842f-7aaf31be0b99"
      },
      "execution_count": 14,
      "outputs": [
        {
          "output_type": "stream",
          "name": "stdout",
          "text": [
            "Sure, here's a basic recipe for making pizza:\n",
            "\n",
            "Ingredients:\n",
            "\n",
            "- 1 lb pizza dough (homemade or store-bought)\n",
            "- 1/2 cup tomato sauce\n",
            "- 1 cup shredded mozzarella cheese\n",
            "- 1/4 cup grated Parmesan cheese\n",
            "- Toppings of your choice (e.g., pepperoni, mushrooms, olives, onions,bell peppers)\n",
            "- 1 tsp olive oil\n",
            "- 1/2 tsp dried oregano\n",
            "- Salt and pepper to taste\n",
            "\n",
            "Instructions:\n",
            "\n",
            "1. Preheat your oven to 450°F (230°C).\n",
            "\n",
            "2. If using store-bought dough, let it come to room temperature. If making homemade dough, prepare it according to the recipe.\n",
            "\n",
            "3. Stretch or roll out the pizza dough\n"
          ]
        }
      ]
    },
    {
      "cell_type": "markdown",
      "source": [
        "this logic is making complete sense. Lets convert it to the algorithm"
      ],
      "metadata": {
        "id": "RAxgzqq7J9cT"
      }
    },
    {
      "cell_type": "markdown",
      "source": [
        "#### Algorithm"
      ],
      "metadata": {
        "id": "EModGBMnSN6W"
      }
    },
    {
      "cell_type": "markdown",
      "source": [
        "```\n",
        "# Input → Prompt + Input\n",
        "# First LLM → First generation *Input\n",
        "# Second LLM → Next generation starting from here: *First LLM output\n",
        "# Third LLM → Next generation from *Input starting from here: *First LLM output + *Second LLM output\n",
        "# Fourth LLM → Next generation from *Input starting from here: *First LLM output + *Second LLM output + *Third LLM output\n",
        "# ...\n",
        "# Nth LLM → Next generation from *Input starting from here: *First LLM output + *Second LLM output + ... + *(N-1)th LLM output\n",
        "\n",
        "# Repeat steps 4 to N until the LLM starts repeating similar generations from the start.\n",
        "\n",
        "# Merge node: Combine all the generated outputs from the LLMs.\n",
        "\n",
        "```\n",
        "\n"
      ],
      "metadata": {
        "id": "r2RL4VeSKDvC"
      }
    },
    {
      "cell_type": "markdown",
      "source": [
        "### Code to handle to max token limit"
      ],
      "metadata": {
        "id": "MN1d6CIkKVPA"
      }
    },
    {
      "cell_type": "markdown",
      "source": [
        "following is the simple implementation of above algorithm"
      ],
      "metadata": {
        "id": "OnN4PUaFLEFW"
      }
    },
    {
      "cell_type": "code",
      "source": [
        "import difflib\n",
        "\n",
        "def generate_output(prompt):\n",
        "    # Mock-up function to simulate LLM response; replace with actual LLM invocation\n",
        "    output= model.invoke(prompt)\n",
        "    return output.content\n",
        "\n",
        "def generate_generations(initial_prompt, max_generations=5):\n",
        "    all_outputs = []\n",
        "    current_input = initial_prompt\n",
        "\n",
        "    for _ in range(max_generations):\n",
        "      print('iteration ',_)\n",
        "      print(current_input)\n",
        "      output = generate_output(current_input)\n",
        "      all_outputs.append(output)\n",
        "      current_input += \" \" + output\n",
        "\n",
        "    return \" \".join(all_outputs)\n",
        "\n",
        "# Usage example\n",
        "initial_prompt = \"write the pizza receipe\"\n",
        "final_output = generate_generations(initial_prompt)\n",
        "print(final_output)\n"
      ],
      "metadata": {
        "colab": {
          "base_uri": "https://localhost:8080/"
        },
        "id": "nJ9-3I7bHH3v",
        "outputId": "f2c2c735-53ca-49cb-b9ed-a80d2c858892"
      },
      "execution_count": 18,
      "outputs": [
        {
          "output_type": "stream",
          "name": "stdout",
          "text": [
            "iteration  0\n",
            "write the pizza receipe\n",
            "iteration  1\n",
            "write the pizza receipe Here's a basic recipe for making pizza:\n",
            "\n",
            "Ingredients:\n",
            "\n",
            "1. Pizza dough (homemade or store-bought)\n",
            "2. Tomato sauce\n",
            "3. Mozzarella cheese, shredded\n",
            "4. Toppings of your choice (e.g., pepperoni, mushrooms, onions, bell peppers, olives)\n",
            "5. Olive oil\n",
            "6. Salt and pepper\n",
            "7. Dried oregano (\n",
            "iteration  2\n",
            "write the pizza receipe Here's a basic recipe for making pizza:\n",
            "\n",
            "Ingredients:\n",
            "\n",
            "1. Pizza dough (homemade or store-bought)\n",
            "2. Tomato sauce\n",
            "3. Mozzarella cheese, shredded\n",
            "4. Toppings of your choice (e.g., pepperoni, mushrooms, onions, bell peppers, olives)\n",
            "5. Olive oil\n",
            "6. Salt and pepper\n",
            "7. Dried oregano ( optional)\n",
            "\n",
            "Instructions:\n",
            "\n",
            "1. Preheat your oven to the highest temperature setting, usually between 450°F to 500°F (230°C to 260°C). Place a pizza stone or a large baking sheet in the oven while it heats up.\n",
            "\n",
            "2. Roll out the pizza dough on a lightly floured surface to your desired thickness and shape.\n",
            "\n",
            "3. Transfer the dough onto a pizza peel or another large\n",
            "iteration  3\n",
            "write the pizza receipe Here's a basic recipe for making pizza:\n",
            "\n",
            "Ingredients:\n",
            "\n",
            "1. Pizza dough (homemade or store-bought)\n",
            "2. Tomato sauce\n",
            "3. Mozzarella cheese, shredded\n",
            "4. Toppings of your choice (e.g., pepperoni, mushrooms, onions, bell peppers, olives)\n",
            "5. Olive oil\n",
            "6. Salt and pepper\n",
            "7. Dried oregano ( optional)\n",
            "\n",
            "Instructions:\n",
            "\n",
            "1. Preheat your oven to the highest temperature setting, usually between 450°F to 500°F (230°C to 260°C). Place a pizza stone or a large baking sheet in the oven while it heats up.\n",
            "\n",
            "2. Roll out the pizza dough on a lightly floured surface to your desired thickness and shape.\n",
            "\n",
            "3. Transfer the dough onto a pizza peel or another large baking sheet dusted with cornmeal or semolina flour to prevent sticking.\n",
            "\n",
            "4. Brush the dough lightly with olive oil, then spread an even layer of tomato sauce on top, leaving a small border around the edges.\n",
            "\n",
            "5. Sprinkle the shredded mozzarella cheese evenly over the sauce.\n",
            "\n",
            "6. Add your desired toppings, distributing them evenly across the pizza.\n",
            "\n",
            "7. Season the pizza\n",
            "iteration  4\n",
            "write the pizza receipe Here's a basic recipe for making pizza:\n",
            "\n",
            "Ingredients:\n",
            "\n",
            "1. Pizza dough (homemade or store-bought)\n",
            "2. Tomato sauce\n",
            "3. Mozzarella cheese, shredded\n",
            "4. Toppings of your choice (e.g., pepperoni, mushrooms, onions, bell peppers, olives)\n",
            "5. Olive oil\n",
            "6. Salt and pepper\n",
            "7. Dried oregano ( optional)\n",
            "\n",
            "Instructions:\n",
            "\n",
            "1. Preheat your oven to the highest temperature setting, usually between 450°F to 500°F (230°C to 260°C). Place a pizza stone or a large baking sheet in the oven while it heats up.\n",
            "\n",
            "2. Roll out the pizza dough on a lightly floured surface to your desired thickness and shape.\n",
            "\n",
            "3. Transfer the dough onto a pizza peel or another large baking sheet dusted with cornmeal or semolina flour to prevent sticking.\n",
            "\n",
            "4. Brush the dough lightly with olive oil, then spread an even layer of tomato sauce on top, leaving a small border around the edges.\n",
            "\n",
            "5. Sprinkle the shredded mozzarella cheese evenly over the sauce.\n",
            "\n",
            "6. Add your desired toppings, distributing them evenly across the pizza.\n",
            "\n",
            "7. Season the pizza Here's a basic recipe for making pizza:\n",
            "\n",
            "Ingredients:\n",
            "\n",
            "1. Pizza dough (homemade or store-bought)\n",
            "2. Tomato sauce\n",
            "3. Mozzarella cheese, shredded\n",
            "4. Toppings of your choice (e.g., pepperoni, mushrooms, onions, bell peppers, olives)\n",
            "5. Olive oil\n",
            "6. Salt and pepper\n",
            "7. Dried oregano (\n",
            "Here's a basic recipe for making pizza:\n",
            "\n",
            "Ingredients:\n",
            "\n",
            "1. Pizza dough (homemade or store-bought)\n",
            "2. Tomato sauce\n",
            "3. Mozzarella cheese, shredded\n",
            "4. Toppings of your choice (e.g., pepperoni, mushrooms, onions, bell peppers, olives)\n",
            "5. Olive oil\n",
            "6. Salt and pepper\n",
            "7. Dried oregano ( optional)\n",
            "\n",
            "Instructions:\n",
            "\n",
            "1. Preheat your oven to the highest temperature setting, usually between 450°F to 500°F (230°C to 260°C). Place a pizza stone or a large baking sheet in the oven while it heats up.\n",
            "\n",
            "2. Roll out the pizza dough on a lightly floured surface to your desired thickness and shape.\n",
            "\n",
            "3. Transfer the dough onto a pizza peel or another large baking sheet dusted with cornmeal or semolina flour to prevent sticking.\n",
            "\n",
            "4. Brush the dough lightly with olive oil, then spread an even layer of tomato sauce on top, leaving a small border around the edges.\n",
            "\n",
            "5. Sprinkle the shredded mozzarella cheese evenly over the sauce.\n",
            "\n",
            "6. Add your desired toppings, distributing them evenly across the pizza.\n",
            "\n",
            "7. Season the pizza Here's a basic recipe for making pizza:\n",
            "\n",
            "Ingredients:\n",
            "\n",
            "1. Pizza dough (homemade or store-bought)\n",
            "2. Tomato sauce\n",
            "3. Mozzarella cheese, shredded\n",
            "4. Toppings of your choice (e.g., pepperoni, mushrooms, onions, bell peppers, olives)\n",
            "5. Olive oil\n",
            "6. Salt and pepper\n",
            "7. Dried oregano ( optional)\n",
            "\n",
            "Instructions:\n",
            "\n",
            "1. Preheat your oven to the highest temperature setting, usually between 450°F to 500°F (230°C to 260°C). Place a pizza stone or a large baking sheet in the oven while it heats up.\n",
            "\n",
            "2. Roll out the pizza dough on a lightly floured surface to your desired thickness and shape.\n",
            "\n",
            "3. Transfer the dough onto a pizza peel or another large\n"
          ]
        }
      ]
    },
    {
      "cell_type": "markdown",
      "source": [
        "After reviewing the output, it appears that the model starts repeating itself after the fourth iteration. To obtain a complete solution, we should stop the generation when it begins to repeat."
      ],
      "metadata": {
        "id": "TrUBsTTkMR7H"
      }
    },
    {
      "cell_type": "markdown",
      "source": [
        "#### Code with the stopping condition"
      ],
      "metadata": {
        "id": "Qn53IRoXSqEv"
      }
    },
    {
      "cell_type": "markdown",
      "source": [
        "Let's introduce a new stopping criterion: halt the generation when the new output is more than 80% similar to any previous output produced by the model. Let's go ahead and implement this."
      ],
      "metadata": {
        "id": "W3t6HhbEMo1K"
      }
    },
    {
      "cell_type": "code",
      "source": [
        "import difflib\n",
        "\n",
        "def generate_output(prompt,all_outputs):\n",
        "    # Mock-up function to simulate LLM response; replace with actual LLM invocation\n",
        "    if len(all_outputs)==0:\n",
        "      output= model.invoke(prompt)\n",
        "    else:\n",
        "      output= model.invoke(f\"write the next chunk of pizza receipe based on the {' '.join(all_outputs)}\")\n",
        "    return output.content\n",
        "\n",
        "def is_similar(text1, text2, threshold=0.8):\n",
        "    # Simple similarity check based on sequence matching\n",
        "    similarity = difflib.SequenceMatcher(None, text1, text2).ratio()\n",
        "    print(similarity)\n",
        "    return similarity > threshold\n",
        "\n",
        "def generate_generations(initial_prompt, max_generations=5):\n",
        "    all_outputs = []\n",
        "    current_input = initial_prompt\n",
        "\n",
        "    for _ in range(max_generations):\n",
        "        output = generate_output(current_input,all_outputs)\n",
        "        if any(is_similar(output, previous_output) for previous_output in all_outputs):\n",
        "            print(\"Stopping generation due to similar output.\")\n",
        "            break\n",
        "        all_outputs.append(output)\n",
        "        current_input += \" \" + output\n",
        "\n",
        "    return \" \".join(all_outputs)\n",
        "\n",
        "# Usage example\n",
        "initial_prompt = \"write the pizza receipe.\"\n",
        "final_output = generate_generations(initial_prompt)\n",
        "print(final_output)\n"
      ],
      "metadata": {
        "colab": {
          "base_uri": "https://localhost:8080/"
        },
        "id": "yungezj2K0oL",
        "outputId": "679a4ea8-9e9c-4f00-a536-86baf4639efc"
      },
      "execution_count": 24,
      "outputs": [
        {
          "output_type": "stream",
          "name": "stdout",
          "text": [
            "0.12863070539419086\n",
            "0.09739130434782609\n",
            "0.24880382775119617\n",
            "0.029574861367837338\n",
            "0.003372681281618887\n",
            "0.043731778425655975\n",
            "0.03577817531305903\n",
            "0.029459901800327332\n",
            "0.0625\n",
            "0.041791044776119404\n",
            "Here's a basic recipe for making pizza:\n",
            "\n",
            "Ingredients:\n",
            "\n",
            "- 1 1/2 cups (190g) all-purpose flour\n",
            "- 1 tsp (5g) instant yeast\n",
            "- 1 tsp (5g) sugar\n",
            "- 3/4 tsp (4g) salt\n",
            "- 2 tbsp (30ml) olive oil\n",
            "- 1/2 cup (120ml) warm water\n",
            "- Here's the next chunk of the pizza recipe:\n",
            "\n",
            " 1/2 cup (120ml) tomato sauce\n",
            "- 1 cup (100g) shredded mozzarella cheese\n",
            "- 1/4 cup (25g) grated Parmesan cheese\n",
            "- Toppings of your choice (e.g., pepperoni, mushrooms, onions, bell peppers)\n",
            "\n",
            "Instructions:\n",
            "\n",
            "1. In a large bowl, Here's the next chunk of the pizza recipe:\n",
            "\n",
            "Instructions:\n",
            "\n",
            "1. In a large bowl, mix the flour, instant yeast, sugar, and salt.\n",
            "\n",
            "2. Add the olive oil and warm water to the dry ingredients. Mix until a dough forms.\n",
            "\n",
            "3. Knead the dough on a lightly floured surface for about 5-7 minutes or until it becomes smooth and elastic.\n",
            "\n",
            "4. Place the dough in a greased bowl , cover it with a damp cloth or plastic wrap, and let it rise in a warm place for about 1 hour or until it doubles in size.\n",
            "\n",
            "5. Preheat your oven to 450°F (230°C) and grease a pizza pan or baking sheet.\n",
            "\n",
            "6. Punch down the dough and roll it out on a lightly floured surface to fit your pizza pan or baking sheet.\n",
            "\n",
            "7. Spread the tomato sauce evenly over the pizza dough, leaving a small border around the edges.\n",
            "\n",
            "8. Sprinkle the shredded mozzarella and grated Parmesan cheeses over the sauce.\n",
            "\n",
            "9. Add your desired toppings evenly over the cheese.\n",
            "\n",
            "10. Bake the pizza in the preheated oven for 15-20 minutes or until the crust is golden brown and the cheese is melted and bu\n"
          ]
        }
      ]
    },
    {
      "cell_type": "markdown",
      "source": [
        "This looks much better and more complete now."
      ],
      "metadata": {
        "id": "RFx2x_a2QZiz"
      }
    },
    {
      "cell_type": "code",
      "source": [],
      "metadata": {
        "id": "A4eGIIotNE3F"
      },
      "execution_count": null,
      "outputs": []
    }
  ]
}