{
  "nbformat": 4,
  "nbformat_minor": 0,
  "metadata": {
    "colab": {
      "provenance": [],
      "authorship_tag": "ABX9TyPBUKT1kP/NHHLNcOPf4IoC",
      "include_colab_link": true
    },
    "kernelspec": {
      "name": "python3",
      "display_name": "Python 3"
    },
    "language_info": {
      "name": "python"
    }
  },
  "cells": [
    {
      "cell_type": "markdown",
      "metadata": {
        "id": "view-in-github",
        "colab_type": "text"
      },
      "source": [
        "<a href=\"https://colab.research.google.com/github/RakeshSharma21/Sessions_Notebook/blob/main/forward_propagation.ipynb\" target=\"_parent\"><img src=\"https://colab.research.google.com/assets/colab-badge.svg\" alt=\"Open In Colab\"/></a>"
      ]
    },
    {
      "cell_type": "code",
      "source": [
        "\n",
        "import numpy as np\n",
        "\n",
        "# Example dataset\n",
        "X = np.array([[0.5, 0.1], [0.2, 0.3], [0.8, 0.7]]) # Input features (3 examples, 2 features each)\n",
        "W1 = np.array([[0.1, 0.3, 0.5], [0.2, 0.4, 0.6]]) # Weights for the first layer (2 features, 3 neurons)\n",
        "b1 = np.array([0.1, 0.2, 0.3]) # Biases for the first layer (3 neurons)\n",
        "W2 = np.array([[0.7, 0.9], [0.8, 0.1], [0.2, 0.3]]) # Weights for the second layer (3 neurons, 2 outputs)\n",
        "b2 = np.array([0.4, 0.5]) # Biases for the second layer (2 outputs)\n",
        "\n",
        "# Forward propagation\n",
        "# Step 1: Calculate the weighted sum of inputs for the first layer\n",
        "Z1 = np.dot(X, W1) + b1\n",
        "# Description: This line calculates the weighted sum of inputs for each neuron in the first layer.\n",
        "# It multiplies the input features (X) by the weights (W1) and adds the biases (b1).\n",
        "# The result is a matrix Z1, where each row represents an example and each column represents a neuron.\n",
        "\n",
        "print(Z1.shape)\n",
        "\n",
        "# Step 2: Apply the activation function to the first layer\n",
        "A1 = 1 / (1 + np.exp(-Z1)) # Sigmoid activation function\n",
        "# Description: This line applies the sigmoid activation function to the weighted sum of inputs (Z1).\n",
        "# The sigmoid function introduces non-linearity to the model, allowing it to learn complex patterns.\n",
        "# The result is a matrix A1, where each element represents the activation of a neuron in the first layer.\n",
        "\n",
        "# Step 3: Calculate the weighted sum of inputs for the second layer\n",
        "Z2 = np.dot(A1, W2) + b2\n",
        "print(Z2.shape)\n",
        "# Description: This line calculates the weighted sum of inputs for each neuron in the second layer.\n",
        "# It multiplies the activations of the first layer (A1) by the weights (W2) and adds the biases (b2).\n",
        "# The result is a matrix Z2, where each row represents an example and each column represents an output.\n",
        "\n",
        "# Step 4: Apply the activation function to the second layer\n",
        "A2 = 1 / (1 + np.exp(-Z2)) # Sigmoid activation function\n",
        "# Description: This line applies the sigmoid activation function to the weighted sum of inputs (Z2).\n",
        "# The sigmoid function introduces non-linearity to the model, allowing it to learn complex patterns.\n",
        "# The result is a matrix A2, where each element represents the activation of an output neuron.\n",
        "\n",
        "# Output\n",
        "print(A2) # Output of the network\n",
        "# Description: This line prints the output of the network, which is the matrix A2.\n",
        "# Each row in A2 represents an example, and each column represents the predicted value for a particular output.\n"
      ],
      "metadata": {
        "colab": {
          "base_uri": "https://localhost:8080/"
        },
        "id": "AtS0VLCLQ_Yb",
        "outputId": "80e6f1c5-2c8b-48f7-82e9-fa7c03e03c87"
      },
      "execution_count": 2,
      "outputs": [
        {
          "output_type": "stream",
          "name": "stdout",
          "text": [
            "(3, 3)\n",
            "(3, 2)\n",
            "[[0.79999976 0.77594127]\n",
            " [0.79974913 0.77592908]\n",
            " [0.81673932 0.78832346]]\n"
          ]
        }
      ]
    },
    {
      "cell_type": "code",
      "source": [
        "\n",
        "import numpy as np\n",
        "\n",
        "def forward_propagation(X, weights, biases, activation_function):\n",
        "  \"\"\"\n",
        "  Performs forward propagation through a neural network.\n",
        "\n",
        "  Args:\n",
        "    X: The input data.\n",
        "    weights: A list of weight matrices for each layer.\n",
        "    biases: A list of bias vectors for each layer.\n",
        "    activation_function: The activation function to use.\n",
        "\n",
        "  Returns:\n",
        "    The output of the network.\n",
        "  \"\"\"\n",
        "\n",
        "  A = X\n",
        "  for i in range(len(weights)):\n",
        "    Z = np.dot(A, weights[i]) + biases[i]\n",
        "    A = activation_function(Z)\n",
        "  return A\n",
        "\n",
        "# Example usage\n",
        "X = np.array([[0.5, 0.1], [0.2, 0.3], [0.8, 0.7]])\n",
        "W1 = np.array([[0.1, 0.3, 0.5], [0.2, 0.4, 0.6]])\n",
        "b1 = np.array([0.1, 0.2, 0.3])\n",
        "W2 = np.array([[0.7, 0.9], [0.8, 0.1], [0.2, 0.3]])\n",
        "b2 = np.array([0.4, 0.5])\n",
        "\n",
        "# Define the activation function\n",
        "def sigmoid(x):\n",
        "  return 1 / (1 + np.exp(-x))\n",
        "\n",
        "# Perform forward propagation\n",
        "weights = [W1, W2]\n",
        "biases = [b1, b2]\n",
        "output = forward_propagation(X, weights, biases, sigmoid)\n",
        "\n",
        "print(output)\n"
      ],
      "metadata": {
        "colab": {
          "base_uri": "https://localhost:8080/"
        },
        "id": "iVz_BUjURsnt",
        "outputId": "924850ed-f9d9-48f8-a223-e1ad57ed8a61"
      },
      "execution_count": 3,
      "outputs": [
        {
          "output_type": "stream",
          "name": "stdout",
          "text": [
            "[[0.79999976 0.77594127]\n",
            " [0.79974913 0.77592908]\n",
            " [0.81673932 0.78832346]]\n"
          ]
        }
      ]
    },
    {
      "cell_type": "code",
      "source": [],
      "metadata": {
        "id": "-LId2Q8-l8zZ"
      },
      "execution_count": null,
      "outputs": []
    }
  ]
}
